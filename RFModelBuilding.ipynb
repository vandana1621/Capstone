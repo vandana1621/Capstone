{
 "cells": [
  {
   "cell_type": "code",
   "execution_count": 296,
   "metadata": {},
   "outputs": [],
   "source": [
    "import pandas as pd\n",
    "import numpy as np\n",
    "from datetime import datetime\n",
    "import time\n",
    "from sklearn.metrics import classification_report, confusion_matrix\n",
    "from sklearn.preprocessing import MinMaxScaler"
   ]
  },
  {
   "cell_type": "code",
   "execution_count": 3,
   "metadata": {},
   "outputs": [],
   "source": [
    "df = pd.read_csv('./Data/VideoStarted.csv')"
   ]
  },
  {
   "cell_type": "code",
   "execution_count": 4,
   "metadata": {},
   "outputs": [],
   "source": [
    "def make_timestamp(row):\n",
    "    date_as_string = str(row['Date'])\n",
    "    hour = str(row['Minute_Of_Day'] // (60))\n",
    "    minute = str(row['Minute_Of_Day'] % 60)\n",
    "    second = str(row['Second'])\n",
    "    \n",
    "    if len(hour) == 1:\n",
    "        hour = '0' + hour\n",
    "        \n",
    "    if len(minute) == 1:\n",
    "        minute = '0' + minute\n",
    "    \n",
    "    if len(second) == 1:\n",
    "        second = '0' + second\n",
    "    \n",
    "    date_string = date_as_string[:4] + '-' + date_as_string[4:6] + '-' + date_as_string[6:] + ' ' + hour + ':' + minute + ':' + second\n",
    "    datetime_object = datetime.strptime(date_string, '%Y-%m-%d %H:%M:%S')\n",
    "    return datetime_object"
   ]
  },
  {
   "cell_type": "code",
   "execution_count": 5,
   "metadata": {},
   "outputs": [],
   "source": [
    "df['TimeStamp'] = df.apply(make_timestamp, axis=1)"
   ]
  },
  {
   "cell_type": "code",
   "execution_count": 6,
   "metadata": {},
   "outputs": [],
   "source": [
    "def change_timestamp_to_epoch(row):\n",
    "    pattern = '%Y-%m-%d %H:%M:%S'\n",
    "    timestamp = str(row['TimeStamp'])\n",
    "    epoch = int(time.mktime(time.strptime(timestamp, pattern)))\n",
    "    return epoch\n",
    "\n",
    "df['epoch'] = df.apply(change_timestamp_to_epoch,axis=1)"
   ]
  },
  {
   "cell_type": "code",
   "execution_count": 12,
   "metadata": {},
   "outputs": [
    {
     "name": "stderr",
     "output_type": "stream",
     "text": [
      "/Users/Clyde/anaconda3/lib/python3.6/site-packages/sklearn/preprocessing/data.py:323: DataConversionWarning: Data with input dtype int64 were all converted to float64 by MinMaxScaler.\n",
      "  return self.partial_fit(X, y)\n"
     ]
    },
    {
     "data": {
      "text/html": [
       "<div>\n",
       "<style scoped>\n",
       "    .dataframe tbody tr th:only-of-type {\n",
       "        vertical-align: middle;\n",
       "    }\n",
       "\n",
       "    .dataframe tbody tr th {\n",
       "        vertical-align: top;\n",
       "    }\n",
       "\n",
       "    .dataframe thead th {\n",
       "        text-align: right;\n",
       "    }\n",
       "</style>\n",
       "<table border=\"1\" class=\"dataframe\">\n",
       "  <thead>\n",
       "    <tr style=\"text-align: right;\">\n",
       "      <th></th>\n",
       "      <th>UserId</th>\n",
       "      <th>Date</th>\n",
       "      <th>Minute_Of_Day</th>\n",
       "      <th>Second</th>\n",
       "      <th>State</th>\n",
       "      <th>Genre</th>\n",
       "      <th>Category</th>\n",
       "      <th>ProgramType</th>\n",
       "      <th>Country</th>\n",
       "      <th>Device</th>\n",
       "      <th>OS</th>\n",
       "      <th>VideoId</th>\n",
       "      <th>TimeStamp</th>\n",
       "      <th>epoch</th>\n",
       "      <th>epoch_scaled</th>\n",
       "    </tr>\n",
       "  </thead>\n",
       "  <tbody>\n",
       "    <tr>\n",
       "      <th>0</th>\n",
       "      <td>0280dfdd112732a3ac12b12dc770b7af</td>\n",
       "      <td>20170106</td>\n",
       "      <td>0</td>\n",
       "      <td>8</td>\n",
       "      <td>35</td>\n",
       "      <td>Romance</td>\n",
       "      <td>vod</td>\n",
       "      <td>Movies</td>\n",
       "      <td>1</td>\n",
       "      <td>1</td>\n",
       "      <td>2</td>\n",
       "      <td>36a27b379622f342ec87f9aafadb8f94</td>\n",
       "      <td>2017-01-06 00:00:08</td>\n",
       "      <td>1483641008</td>\n",
       "      <td>0.000000</td>\n",
       "    </tr>\n",
       "    <tr>\n",
       "      <th>1</th>\n",
       "      <td>435d41ae019cb8db785483793859c9a8</td>\n",
       "      <td>20170106</td>\n",
       "      <td>0</td>\n",
       "      <td>28</td>\n",
       "      <td>35</td>\n",
       "      <td>Anime</td>\n",
       "      <td>vod</td>\n",
       "      <td>TV Shows</td>\n",
       "      <td>1</td>\n",
       "      <td>1</td>\n",
       "      <td>1</td>\n",
       "      <td>a4d9b88c7ed63d723c70b358a857719c</td>\n",
       "      <td>2017-01-06 00:00:28</td>\n",
       "      <td>1483641028</td>\n",
       "      <td>0.000001</td>\n",
       "    </tr>\n",
       "    <tr>\n",
       "      <th>2</th>\n",
       "      <td>1faf0ce0b98e02e1568702f516f01a78</td>\n",
       "      <td>20170106</td>\n",
       "      <td>0</td>\n",
       "      <td>36</td>\n",
       "      <td>35</td>\n",
       "      <td>Drama</td>\n",
       "      <td>vod</td>\n",
       "      <td>TV Shows</td>\n",
       "      <td>1</td>\n",
       "      <td>1</td>\n",
       "      <td>1</td>\n",
       "      <td>806660cb47633263a24bbc53238a9a53</td>\n",
       "      <td>2017-01-06 00:00:36</td>\n",
       "      <td>1483641036</td>\n",
       "      <td>0.000002</td>\n",
       "    </tr>\n",
       "    <tr>\n",
       "      <th>3</th>\n",
       "      <td>3ec691b9d2b5d53ef965fe59b1900b30</td>\n",
       "      <td>20170106</td>\n",
       "      <td>0</td>\n",
       "      <td>48</td>\n",
       "      <td>35</td>\n",
       "      <td>Drama</td>\n",
       "      <td>vod</td>\n",
       "      <td>TV Shows</td>\n",
       "      <td>1</td>\n",
       "      <td>2</td>\n",
       "      <td>2</td>\n",
       "      <td>385114825a85d6878e7a0978f9ba5546</td>\n",
       "      <td>2017-01-06 00:00:48</td>\n",
       "      <td>1483641048</td>\n",
       "      <td>0.000003</td>\n",
       "    </tr>\n",
       "    <tr>\n",
       "      <th>4</th>\n",
       "      <td>ff230d487a7139b65f33b54a4cbd2d9e</td>\n",
       "      <td>20170106</td>\n",
       "      <td>0</td>\n",
       "      <td>56</td>\n",
       "      <td>35</td>\n",
       "      <td>Comedy</td>\n",
       "      <td>vod</td>\n",
       "      <td>Movies</td>\n",
       "      <td>1</td>\n",
       "      <td>1</td>\n",
       "      <td>1</td>\n",
       "      <td>368a480ec0ae105aee8320dd93483e39</td>\n",
       "      <td>2017-01-06 00:00:56</td>\n",
       "      <td>1483641056</td>\n",
       "      <td>0.000004</td>\n",
       "    </tr>\n",
       "  </tbody>\n",
       "</table>\n",
       "</div>"
      ],
      "text/plain": [
       "                             UserId      Date  Minute_Of_Day  Second  State  \\\n",
       "0  0280dfdd112732a3ac12b12dc770b7af  20170106              0       8     35   \n",
       "1  435d41ae019cb8db785483793859c9a8  20170106              0      28     35   \n",
       "2  1faf0ce0b98e02e1568702f516f01a78  20170106              0      36     35   \n",
       "3  3ec691b9d2b5d53ef965fe59b1900b30  20170106              0      48     35   \n",
       "4  ff230d487a7139b65f33b54a4cbd2d9e  20170106              0      56     35   \n",
       "\n",
       "       Genre Category ProgramType  Country  Device  OS  \\\n",
       "0   Romance      vod       Movies        1       1   2   \n",
       "1     Anime      vod     TV Shows        1       1   1   \n",
       "2     Drama      vod     TV Shows        1       1   1   \n",
       "3     Drama      vod     TV Shows        1       2   2   \n",
       "4    Comedy      vod       Movies        1       1   1   \n",
       "\n",
       "                            VideoId           TimeStamp       epoch  \\\n",
       "0  36a27b379622f342ec87f9aafadb8f94 2017-01-06 00:00:08  1483641008   \n",
       "1  a4d9b88c7ed63d723c70b358a857719c 2017-01-06 00:00:28  1483641028   \n",
       "2  806660cb47633263a24bbc53238a9a53 2017-01-06 00:00:36  1483641036   \n",
       "3  385114825a85d6878e7a0978f9ba5546 2017-01-06 00:00:48  1483641048   \n",
       "4  368a480ec0ae105aee8320dd93483e39 2017-01-06 00:00:56  1483641056   \n",
       "\n",
       "   epoch_scaled  \n",
       "0      0.000000  \n",
       "1      0.000001  \n",
       "2      0.000002  \n",
       "3      0.000003  \n",
       "4      0.000004  "
      ]
     },
     "execution_count": 12,
     "metadata": {},
     "output_type": "execute_result"
    }
   ],
   "source": [
    "scaler = MinMaxScaler()\n",
    "df['epoch_scaled'] = scaler.fit_transform(df[['epoch']])\n",
    "df.head()"
   ]
  },
  {
   "cell_type": "code",
   "execution_count": 13,
   "metadata": {},
   "outputs": [],
   "source": [
    "df.to_csv('./Data/VideoStartedEpoch.csv')"
   ]
  },
  {
   "cell_type": "code",
   "execution_count": 14,
   "metadata": {},
   "outputs": [
    {
     "data": {
      "text/plain": [
       "1497292196"
      ]
     },
     "execution_count": 14,
     "metadata": {},
     "output_type": "execute_result"
    }
   ],
   "source": [
    "df['epoch'].max()"
   ]
  },
  {
   "cell_type": "code",
   "execution_count": 15,
   "metadata": {},
   "outputs": [
    {
     "data": {
      "text/plain": [
       "1.0"
      ]
     },
     "execution_count": 15,
     "metadata": {},
     "output_type": "execute_result"
    }
   ],
   "source": [
    "df['epoch_scaled'].max()"
   ]
  },
  {
   "cell_type": "markdown",
   "metadata": {},
   "source": [
    "# Function to get data before epoch"
   ]
  },
  {
   "cell_type": "code",
   "execution_count": 176,
   "metadata": {},
   "outputs": [],
   "source": [
    "def get_data_before_epoch(df, epoch):\n",
    "    return df[df['epoch'] < epoch]\n",
    "\n",
    "def get_data_after_epoch(df, epoch):\n",
    "    return df[df['epoch'] >= epoch]"
   ]
  },
  {
   "cell_type": "code",
   "execution_count": 177,
   "metadata": {},
   "outputs": [
    {
     "data": {
      "text/plain": [
       "(251514, 16)"
      ]
     },
     "execution_count": 177,
     "metadata": {},
     "output_type": "execute_result"
    }
   ],
   "source": [
    "get_data_before_epoch(df, df['epoch'].quantile(.2)).shape"
   ]
  },
  {
   "cell_type": "code",
   "execution_count": 268,
   "metadata": {},
   "outputs": [
    {
     "name": "stdout",
     "output_type": "stream",
     "text": [
      "(1257567, 16) (538958, 16)\n"
     ]
    }
   ],
   "source": [
    "df = pd.read_csv('./Data/VideoStartedEpoch.csv')\n",
    "df = df.sort_values('epoch')\n",
    "\n",
    "EPOCH_SELECTED = df['epoch'].quantile(.7)\n",
    "\n",
    "df_test = get_data_after_epoch(df, EPOCH_SELECTED)\n",
    "df = get_data_before_epoch(df, EPOCH_SELECTED)\n",
    "print(df.shape, df_test.shape)"
   ]
  },
  {
   "cell_type": "markdown",
   "metadata": {},
   "source": [
    "# Function to get frequency value"
   ]
  },
  {
   "cell_type": "code",
   "execution_count": 269,
   "metadata": {},
   "outputs": [],
   "source": [
    "def get_frequency_value(df):\n",
    "    df_grouped_by_user_id = df.groupby('UserId').count()\n",
    "    df_to_return = df_grouped_by_user_id[['Date']]\n",
    "    df_to_return.columns=['frequency_value']\n",
    "    return df_to_return"
   ]
  },
  {
   "cell_type": "code",
   "execution_count": 270,
   "metadata": {},
   "outputs": [],
   "source": [
    "df_freq_value = get_frequency_value(df)"
   ]
  },
  {
   "cell_type": "markdown",
   "metadata": {},
   "source": [
    "# Function to get frequency score"
   ]
  },
  {
   "cell_type": "code",
   "execution_count": 271,
   "metadata": {},
   "outputs": [],
   "source": [
    "def get_frequency_score(row):\n",
    "    frequency_value = row['frequency_value']\n",
    "    frequency_score = 0\n",
    "    \n",
    "    if frequency_value > 22:\n",
    "        frequency_score = 5\n",
    "    elif frequency_value > 10 and frequency_value <= 22:\n",
    "        frequency_score = 4\n",
    "    elif frequency_value > 4 and frequency_value <= 10:\n",
    "        frequency_score = 3\n",
    "    elif frequency_value > 2 and frequency_value <= 4:\n",
    "        frequency_score = 2\n",
    "    elif frequency_value == 1 or frequency_value == 2:\n",
    "        frequency_score = 1\n",
    "        \n",
    "    row['frequency_score'] = frequency_score\n",
    "    return row"
   ]
  },
  {
   "cell_type": "code",
   "execution_count": 272,
   "metadata": {},
   "outputs": [],
   "source": [
    "df_freq_score = df_freq_value.apply(get_frequency_score, axis=1)"
   ]
  },
  {
   "cell_type": "code",
   "execution_count": 273,
   "metadata": {},
   "outputs": [
    {
     "data": {
      "text/html": [
       "<div>\n",
       "<style scoped>\n",
       "    .dataframe tbody tr th:only-of-type {\n",
       "        vertical-align: middle;\n",
       "    }\n",
       "\n",
       "    .dataframe tbody tr th {\n",
       "        vertical-align: top;\n",
       "    }\n",
       "\n",
       "    .dataframe thead th {\n",
       "        text-align: right;\n",
       "    }\n",
       "</style>\n",
       "<table border=\"1\" class=\"dataframe\">\n",
       "  <thead>\n",
       "    <tr style=\"text-align: right;\">\n",
       "      <th></th>\n",
       "      <th>frequency_value</th>\n",
       "      <th>frequency_score</th>\n",
       "    </tr>\n",
       "    <tr>\n",
       "      <th>UserId</th>\n",
       "      <th></th>\n",
       "      <th></th>\n",
       "    </tr>\n",
       "  </thead>\n",
       "  <tbody>\n",
       "    <tr>\n",
       "      <th>0000146e97c32d369268e5ba5f4b907c</th>\n",
       "      <td>1</td>\n",
       "      <td>1</td>\n",
       "    </tr>\n",
       "    <tr>\n",
       "      <th>00004010d92c2f13b824237bc323d58b</th>\n",
       "      <td>2</td>\n",
       "      <td>1</td>\n",
       "    </tr>\n",
       "    <tr>\n",
       "      <th>0000e560394fce891dcf80218793d181</th>\n",
       "      <td>3</td>\n",
       "      <td>2</td>\n",
       "    </tr>\n",
       "    <tr>\n",
       "      <th>00015c69cccd32bcd323227b7140d8a8</th>\n",
       "      <td>10</td>\n",
       "      <td>3</td>\n",
       "    </tr>\n",
       "    <tr>\n",
       "      <th>00016f6ad820aa24940343f837799519</th>\n",
       "      <td>23</td>\n",
       "      <td>5</td>\n",
       "    </tr>\n",
       "  </tbody>\n",
       "</table>\n",
       "</div>"
      ],
      "text/plain": [
       "                                  frequency_value  frequency_score\n",
       "UserId                                                            \n",
       "0000146e97c32d369268e5ba5f4b907c                1                1\n",
       "00004010d92c2f13b824237bc323d58b                2                1\n",
       "0000e560394fce891dcf80218793d181                3                2\n",
       "00015c69cccd32bcd323227b7140d8a8               10                3\n",
       "00016f6ad820aa24940343f837799519               23                5"
      ]
     },
     "execution_count": 273,
     "metadata": {},
     "output_type": "execute_result"
    }
   ],
   "source": [
    "df_freq_score.head()"
   ]
  },
  {
   "cell_type": "code",
   "execution_count": 274,
   "metadata": {},
   "outputs": [],
   "source": [
    "df_freq_score.to_csv('./RecencyFrequency.csv')"
   ]
  },
  {
   "cell_type": "markdown",
   "metadata": {},
   "source": [
    "# Function to get recency value"
   ]
  },
  {
   "cell_type": "code",
   "execution_count": 275,
   "metadata": {},
   "outputs": [],
   "source": [
    "def get_recency_value(df):\n",
    "    df = df[['UserId', 'VideoId', 'epoch']]\n",
    "    sorted_df = df.sort_values(['epoch'])\n",
    "    df_grouped_by_user_id = sorted_df.groupby(['UserId']).tail(1)\n",
    "    df_grouped_by_user_id = df_grouped_by_user_id.set_index('UserId')\n",
    "    df_grouped_by_user_id = df_grouped_by_user_id[['epoch']]\n",
    "    df_grouped_by_user_id.columns = ['recency_value']\n",
    "    return df_grouped_by_user_id"
   ]
  },
  {
   "cell_type": "code",
   "execution_count": 276,
   "metadata": {},
   "outputs": [],
   "source": [
    "df_recency_value = get_recency_value(df)"
   ]
  },
  {
   "cell_type": "code",
   "execution_count": 277,
   "metadata": {},
   "outputs": [
    {
     "name": "stderr",
     "output_type": "stream",
     "text": [
      "/Users/Clyde/anaconda3/lib/python3.6/site-packages/ipykernel_launcher.py:1: FutureWarning: Sorting because non-concatenation axis is not aligned. A future version\n",
      "of pandas will change to not sort by default.\n",
      "\n",
      "To accept the future behavior, pass 'sort=False'.\n",
      "\n",
      "To retain the current behavior and silence the warning, pass 'sort=True'.\n",
      "\n",
      "  \"\"\"Entry point for launching an IPython kernel.\n"
     ]
    }
   ],
   "source": [
    "df_without_recency_score = pd.concat([df_freq_score, df_recency_value], axis=1)"
   ]
  },
  {
   "cell_type": "code",
   "execution_count": 278,
   "metadata": {},
   "outputs": [],
   "source": [
    "df_without_recency_score.to_csv('./RecencyFrequency.csv')"
   ]
  },
  {
   "cell_type": "code",
   "execution_count": 279,
   "metadata": {},
   "outputs": [
    {
     "data": {
      "text/plain": [
       "{'count': 132879.0,\n",
       " 'mean': 1491101960.6835995,\n",
       " 'std': 3589362.4131665574,\n",
       " 'min': 1483641008.0,\n",
       " '25%': 1488171622.0,\n",
       " '50%': 1492183956.0,\n",
       " '75%': 1494154318.0,\n",
       " 'max': 1495441032.0}"
      ]
     },
     "execution_count": 279,
     "metadata": {},
     "output_type": "execute_result"
    }
   ],
   "source": [
    "dict(df_without_recency_score['recency_value'].describe())"
   ]
  },
  {
   "cell_type": "markdown",
   "metadata": {},
   "source": [
    "# Function to get recency score"
   ]
  },
  {
   "cell_type": "code",
   "execution_count": 280,
   "metadata": {},
   "outputs": [],
   "source": [
    "def get_recency_score(df):\n",
    "    scaler = MinMaxScaler((1, 5))\n",
    "    df['recency_score'] = scaler.fit_transform(df[['recency_value']])\n",
    "#     df['recency_score'] = np.round(df['recency_score'])\n",
    "    return df"
   ]
  },
  {
   "cell_type": "code",
   "execution_count": 281,
   "metadata": {},
   "outputs": [
    {
     "name": "stderr",
     "output_type": "stream",
     "text": [
      "/Users/Clyde/anaconda3/lib/python3.6/site-packages/sklearn/preprocessing/data.py:323: DataConversionWarning: Data with input dtype int64 were all converted to float64 by MinMaxScaler.\n",
      "  return self.partial_fit(X, y)\n"
     ]
    }
   ],
   "source": [
    "df_recency_score = get_recency_score(df_recency_value)"
   ]
  },
  {
   "cell_type": "code",
   "execution_count": 282,
   "metadata": {},
   "outputs": [
    {
     "name": "stderr",
     "output_type": "stream",
     "text": [
      "/Users/Clyde/anaconda3/lib/python3.6/site-packages/ipykernel_launcher.py:1: FutureWarning: Sorting because non-concatenation axis is not aligned. A future version\n",
      "of pandas will change to not sort by default.\n",
      "\n",
      "To accept the future behavior, pass 'sort=False'.\n",
      "\n",
      "To retain the current behavior and silence the warning, pass 'sort=True'.\n",
      "\n",
      "  \"\"\"Entry point for launching an IPython kernel.\n"
     ]
    }
   ],
   "source": [
    "df_recency_frequency = pd.concat([df_freq_score, df_recency_score], axis=1)"
   ]
  },
  {
   "cell_type": "code",
   "execution_count": 351,
   "metadata": {},
   "outputs": [
    {
     "data": {
      "text/html": [
       "<div>\n",
       "<style scoped>\n",
       "    .dataframe tbody tr th:only-of-type {\n",
       "        vertical-align: middle;\n",
       "    }\n",
       "\n",
       "    .dataframe tbody tr th {\n",
       "        vertical-align: top;\n",
       "    }\n",
       "\n",
       "    .dataframe thead th {\n",
       "        text-align: right;\n",
       "    }\n",
       "</style>\n",
       "<table border=\"1\" class=\"dataframe\">\n",
       "  <thead>\n",
       "    <tr style=\"text-align: right;\">\n",
       "      <th></th>\n",
       "      <th>frequency_value</th>\n",
       "      <th>frequency_score</th>\n",
       "      <th>recency_value</th>\n",
       "      <th>recency_score</th>\n",
       "    </tr>\n",
       "  </thead>\n",
       "  <tbody>\n",
       "    <tr>\n",
       "      <th>count</th>\n",
       "      <td>132879.000000</td>\n",
       "      <td>132879.000000</td>\n",
       "      <td>1.328790e+05</td>\n",
       "      <td>132879.000000</td>\n",
       "    </tr>\n",
       "    <tr>\n",
       "      <th>mean</th>\n",
       "      <td>9.464001</td>\n",
       "      <td>2.318726</td>\n",
       "      <td>1.491102e+09</td>\n",
       "      <td>3.529131</td>\n",
       "    </tr>\n",
       "    <tr>\n",
       "      <th>std</th>\n",
       "      <td>21.999365</td>\n",
       "      <td>1.361162</td>\n",
       "      <td>3.589362e+06</td>\n",
       "      <td>1.216731</td>\n",
       "    </tr>\n",
       "    <tr>\n",
       "      <th>min</th>\n",
       "      <td>1.000000</td>\n",
       "      <td>1.000000</td>\n",
       "      <td>1.483641e+09</td>\n",
       "      <td>1.000000</td>\n",
       "    </tr>\n",
       "    <tr>\n",
       "      <th>25%</th>\n",
       "      <td>2.000000</td>\n",
       "      <td>1.000000</td>\n",
       "      <td>1.488172e+09</td>\n",
       "      <td>2.535798</td>\n",
       "    </tr>\n",
       "    <tr>\n",
       "      <th>50%</th>\n",
       "      <td>3.000000</td>\n",
       "      <td>2.000000</td>\n",
       "      <td>1.492184e+09</td>\n",
       "      <td>3.895909</td>\n",
       "    </tr>\n",
       "    <tr>\n",
       "      <th>75%</th>\n",
       "      <td>9.000000</td>\n",
       "      <td>3.000000</td>\n",
       "      <td>1.494154e+09</td>\n",
       "      <td>4.563827</td>\n",
       "    </tr>\n",
       "    <tr>\n",
       "      <th>max</th>\n",
       "      <td>1123.000000</td>\n",
       "      <td>5.000000</td>\n",
       "      <td>1.495441e+09</td>\n",
       "      <td>5.000000</td>\n",
       "    </tr>\n",
       "  </tbody>\n",
       "</table>\n",
       "</div>"
      ],
      "text/plain": [
       "       frequency_value  frequency_score  recency_value  recency_score\n",
       "count    132879.000000    132879.000000   1.328790e+05  132879.000000\n",
       "mean          9.464001         2.318726   1.491102e+09       3.529131\n",
       "std          21.999365         1.361162   3.589362e+06       1.216731\n",
       "min           1.000000         1.000000   1.483641e+09       1.000000\n",
       "25%           2.000000         1.000000   1.488172e+09       2.535798\n",
       "50%           3.000000         2.000000   1.492184e+09       3.895909\n",
       "75%           9.000000         3.000000   1.494154e+09       4.563827\n",
       "max        1123.000000         5.000000   1.495441e+09       5.000000"
      ]
     },
     "execution_count": 351,
     "metadata": {},
     "output_type": "execute_result"
    }
   ],
   "source": [
    "df_recency_frequency.describe()"
   ]
  },
  {
   "cell_type": "code",
   "execution_count": 284,
   "metadata": {},
   "outputs": [],
   "source": [
    "df_recency_frequency.to_csv('./RecencyFrequency.csv')"
   ]
  },
  {
   "cell_type": "code",
   "execution_count": 285,
   "metadata": {},
   "outputs": [],
   "source": [
    "df_segments = df_recency_frequency.copy()"
   ]
  },
  {
   "cell_type": "markdown",
   "metadata": {},
   "source": [
    "# Segments\n",
    "|Segment|Recency Score Range|Frequency Score Range|\n",
    "|---|---|---|\n",
    "|Champions|4-5|4-5|\n",
    "|Loyal Customers|3-4|4-5|\n",
    "|Potential Loyalists|4-5|2-3|\n",
    "|Promising|3-4|1-2|\n",
    "|Can't Lose Them|1-2|4-5|\n",
    "|At Risk|1-2|3-4|\n",
    "|Hibernating|1-2|1-2|\n",
    "|New Customers|4-5|1-2|"
   ]
  },
  {
   "cell_type": "code",
   "execution_count": 286,
   "metadata": {},
   "outputs": [],
   "source": [
    "def get_segments(row):\n",
    "    recency_score = row['recency_score']\n",
    "    frequency_score = row['frequency_score']\n",
    "    \n",
    "    segment = np.NaN\n",
    "    \n",
    "    if recency_score > 4 and recency_score <=5 and frequency_score >= 4 and frequency_score <=5:\n",
    "        segment = \"Champions\"\n",
    "    elif recency_score > 3 and recency_score <=4 and frequency_score >= 4 and frequency_score <=5:\n",
    "        segment = \"Loyal Customers\"\n",
    "    elif recency_score > 4 and recency_score <=5 and frequency_score >= 2 and frequency_score <=3:\n",
    "        segment = \"Potential Loyalists\"\n",
    "    elif recency_score > 3 and recency_score <=4 and frequency_score >= 1 and frequency_score <=2:\n",
    "        segment = \"Promising\"\n",
    "    elif recency_score > 1 and recency_score <=2 and frequency_score >= 4 and frequency_score <=5:\n",
    "        segment = \"Can't Lose Them\"\n",
    "    elif recency_score > 1 and recency_score <=2 and frequency_score >= 3 and frequency_score <=4:\n",
    "        segment = \"At Risk\"\n",
    "    elif recency_score > 1 and recency_score <=2 and frequency_score >= 1 and frequency_score <=2:\n",
    "        segment = \"Hibernating\"\n",
    "    elif recency_score > 4 and recency_score <=5 and frequency_score >= 1 and frequency_score <=2:\n",
    "        segment = \"New Customers\"\n",
    "        \n",
    "    row['segment'] = segment\n",
    "    \n",
    "    return row"
   ]
  },
  {
   "cell_type": "code",
   "execution_count": 287,
   "metadata": {},
   "outputs": [],
   "source": [
    "df_segments = df_recency_frequency.apply(get_segments, axis=1)"
   ]
  },
  {
   "cell_type": "code",
   "execution_count": 288,
   "metadata": {},
   "outputs": [
    {
     "data": {
      "text/html": [
       "<div>\n",
       "<style scoped>\n",
       "    .dataframe tbody tr th:only-of-type {\n",
       "        vertical-align: middle;\n",
       "    }\n",
       "\n",
       "    .dataframe tbody tr th {\n",
       "        vertical-align: top;\n",
       "    }\n",
       "\n",
       "    .dataframe thead th {\n",
       "        text-align: right;\n",
       "    }\n",
       "</style>\n",
       "<table border=\"1\" class=\"dataframe\">\n",
       "  <thead>\n",
       "    <tr style=\"text-align: right;\">\n",
       "      <th></th>\n",
       "      <th>frequency_value</th>\n",
       "      <th>frequency_score</th>\n",
       "      <th>recency_value</th>\n",
       "      <th>recency_score</th>\n",
       "    </tr>\n",
       "    <tr>\n",
       "      <th>segment</th>\n",
       "      <th></th>\n",
       "      <th></th>\n",
       "      <th></th>\n",
       "      <th></th>\n",
       "    </tr>\n",
       "  </thead>\n",
       "  <tbody>\n",
       "    <tr>\n",
       "      <th>At Risk</th>\n",
       "      <td>4578</td>\n",
       "      <td>4578</td>\n",
       "      <td>4578</td>\n",
       "      <td>4578</td>\n",
       "    </tr>\n",
       "    <tr>\n",
       "      <th>Can't Lose Them</th>\n",
       "      <td>2593</td>\n",
       "      <td>2593</td>\n",
       "      <td>2593</td>\n",
       "      <td>2593</td>\n",
       "    </tr>\n",
       "    <tr>\n",
       "      <th>Champions</th>\n",
       "      <td>18892</td>\n",
       "      <td>18892</td>\n",
       "      <td>18892</td>\n",
       "      <td>18892</td>\n",
       "    </tr>\n",
       "    <tr>\n",
       "      <th>Hibernating</th>\n",
       "      <td>16760</td>\n",
       "      <td>16760</td>\n",
       "      <td>16760</td>\n",
       "      <td>16760</td>\n",
       "    </tr>\n",
       "    <tr>\n",
       "      <th>Loyal Customers</th>\n",
       "      <td>4458</td>\n",
       "      <td>4458</td>\n",
       "      <td>4458</td>\n",
       "      <td>4458</td>\n",
       "    </tr>\n",
       "    <tr>\n",
       "      <th>New Customers</th>\n",
       "      <td>20775</td>\n",
       "      <td>20775</td>\n",
       "      <td>20775</td>\n",
       "      <td>20775</td>\n",
       "    </tr>\n",
       "    <tr>\n",
       "      <th>Potential Loyalists</th>\n",
       "      <td>22843</td>\n",
       "      <td>22843</td>\n",
       "      <td>22843</td>\n",
       "      <td>22843</td>\n",
       "    </tr>\n",
       "    <tr>\n",
       "      <th>Promising</th>\n",
       "      <td>18358</td>\n",
       "      <td>18358</td>\n",
       "      <td>18358</td>\n",
       "      <td>18358</td>\n",
       "    </tr>\n",
       "  </tbody>\n",
       "</table>\n",
       "</div>"
      ],
      "text/plain": [
       "                     frequency_value  frequency_score  recency_value  \\\n",
       "segment                                                                \n",
       "At Risk                         4578             4578           4578   \n",
       "Can't Lose Them                 2593             2593           2593   \n",
       "Champions                      18892            18892          18892   \n",
       "Hibernating                    16760            16760          16760   \n",
       "Loyal Customers                 4458             4458           4458   \n",
       "New Customers                  20775            20775          20775   \n",
       "Potential Loyalists            22843            22843          22843   \n",
       "Promising                      18358            18358          18358   \n",
       "\n",
       "                     recency_score  \n",
       "segment                             \n",
       "At Risk                       4578  \n",
       "Can't Lose Them               2593  \n",
       "Champions                    18892  \n",
       "Hibernating                  16760  \n",
       "Loyal Customers               4458  \n",
       "New Customers                20775  \n",
       "Potential Loyalists          22843  \n",
       "Promising                    18358  "
      ]
     },
     "execution_count": 288,
     "metadata": {},
     "output_type": "execute_result"
    }
   ],
   "source": [
    "df_segments.groupby('segment').count()"
   ]
  },
  {
   "cell_type": "code",
   "execution_count": 392,
   "metadata": {},
   "outputs": [],
   "source": [
    "MIN_VALUE = 4.5\n",
    "\n",
    "df_users_predicted_will_watch = df_recency_frequency[\n",
    "    (df_recency_frequency['recency_score'] >= 3.89) & \n",
    "    (df_recency_frequency['frequency_score'] >= 4)\n",
    "]"
   ]
  },
  {
   "cell_type": "code",
   "execution_count": 393,
   "metadata": {},
   "outputs": [],
   "source": [
    "df_users_predicted_will_watch.index\n",
    "\n",
    "users_predicted_will_not_watch = list(set(df_recency_frequency.index).difference(set(df_users_predicted_will_watch.index)))\n"
   ]
  },
  {
   "cell_type": "code",
   "execution_count": 400,
   "metadata": {},
   "outputs": [],
   "source": [
    "# def get_predicted_and_test_dfs(users_predicted_will_watch, user_predicted_will_not_watch,df_test):\n",
    "    \n",
    "#     minimum_epoch = df_test['epoch'].min()\n",
    "#     maximum_epoch = minimum_epoch + (1000 * 60 * 60 * 24 * 2)\n",
    "#     df = df_test.sort_values('epoch')\n",
    "#     df = df[df['epoch'] < maximum_epoch]\n",
    "    \n",
    "#     users_actual = df['UserId'].unique()\n",
    "    \n",
    "#     user_predicted_and_test_dict = dict()\n",
    "    \n",
    "#     for user_id in users_predicted_will_watch:\n",
    "#         dict_for_user = dict(pred = 1, test=0)\n",
    "        \n",
    "#         if user_id in users_actual:\n",
    "#             dict_for_user['test'] = 1\n",
    "            \n",
    "#         user_predicted_and_test_dict[user_id] = dict_for_user\n",
    "    \n",
    "#     users_who_watched_but_we_didnt_predict = list(set(users_actual).difference(set(users_predicted_will_watch)))\n",
    "    \n",
    "# #     print(users_who_watched_but_we_didnt_predict)\n",
    "    \n",
    "#     for user_id in users_who_watched_but_we_didnt_predict:\n",
    "#         user_predicted_and_test_dict[user_id] = dict(pred = 0, test=1)\n",
    "        \n",
    "# #     user_predicted_will_not_watch = list(set(user_predicted_will_not_watch).difference(set(users_actual)))\n",
    "        \n",
    "# #     for user_id in user_predicted_will_not_watch:\n",
    "# #         user_predicted_and_test_dict[user_id] = dict(pred = 0, test=0)\n",
    "    \n",
    "#     return user_predicted_and_test_dict"
   ]
  },
  {
   "cell_type": "code",
   "execution_count": 403,
   "metadata": {},
   "outputs": [],
   "source": [
    "def get_predicted_and_test_dfs(users_predicted_will_watch, user_predicted_will_not_watch,df_test):\n",
    "    \n",
    "    minimum_epoch = df_test['epoch'].min()\n",
    "    maximum_epoch = minimum_epoch + (1000 * 60 * 60 * 24 * 2)\n",
    "    df = df_test.sort_values('epoch')\n",
    "    df = df[df['epoch'] < maximum_epoch]\n",
    "    \n",
    "    df_all = pd.read_csv('./Data/VideoStartedEpoch.csv')\n",
    "    all_users = df_all['UserId'].unique()\n",
    "    \n",
    "    users_actual = df['UserId'].unique()\n",
    "    \n",
    "    true_positives = set(users_actual).intersection(set(users_predicted_will_watch))\n",
    "    false_positives = set(users_predicted_will_watch).difference(true_positives)\n",
    "    false_negatives = set(users_actual).difference(set(users_predicted_will_watch))\n",
    "    true_negative = (set(all_users).difference(set(users_actual))).intersection(set(user_predicted_will_not_watch))\n",
    "    \n",
    "    true_positives = len(list(true_positives))\n",
    "    false_positives = len(list(false_positives))\n",
    "    false_negatives = len(list(false_negatives))\n",
    "    true_negative = len(list(true_negative))\n",
    "    \n",
    "    precision = (true_positives)/ (true_positives + false_positives)\n",
    "    recall = (true_positives) / (true_positives + false_negatives)\n",
    "    f1 = 2 * precision * recall / (precision + recall)\n",
    "    \n",
    "    return precision, recall, f1"
   ]
  },
  {
   "cell_type": "code",
   "execution_count": 405,
   "metadata": {},
   "outputs": [
    {
     "data": {
      "text/plain": [
       "(0.41435255823415723, 0.17732456904057112, 0.24836143035697952)"
      ]
     },
     "execution_count": 405,
     "metadata": {},
     "output_type": "execute_result"
    }
   ],
   "source": [
    "get_predicted_and_test_dfs(df_users_predicted_will_watch.index, users_predicted_will_not_watch,df_test)"
   ]
  },
  {
   "cell_type": "code",
   "execution_count": 396,
   "metadata": {},
   "outputs": [
    {
     "data": {
      "text/html": [
       "<div>\n",
       "<style scoped>\n",
       "    .dataframe tbody tr th:only-of-type {\n",
       "        vertical-align: middle;\n",
       "    }\n",
       "\n",
       "    .dataframe tbody tr th {\n",
       "        vertical-align: top;\n",
       "    }\n",
       "\n",
       "    .dataframe thead th {\n",
       "        text-align: right;\n",
       "    }\n",
       "</style>\n",
       "<table border=\"1\" class=\"dataframe\">\n",
       "  <thead>\n",
       "    <tr style=\"text-align: right;\">\n",
       "      <th></th>\n",
       "      <th>pred</th>\n",
       "      <th>test</th>\n",
       "    </tr>\n",
       "  </thead>\n",
       "  <tbody>\n",
       "    <tr>\n",
       "      <th>00016f6ad820aa24940343f837799519</th>\n",
       "      <td>1</td>\n",
       "      <td>1</td>\n",
       "    </tr>\n",
       "    <tr>\n",
       "      <th>000b95c95aa093c5740ec34db21bf720</th>\n",
       "      <td>1</td>\n",
       "      <td>0</td>\n",
       "    </tr>\n",
       "    <tr>\n",
       "      <th>000d3745dc9d10720d23c0b3fd952990</th>\n",
       "      <td>1</td>\n",
       "      <td>1</td>\n",
       "    </tr>\n",
       "    <tr>\n",
       "      <th>000ea68b356465cba3fd2bce92adb19b</th>\n",
       "      <td>1</td>\n",
       "      <td>1</td>\n",
       "    </tr>\n",
       "    <tr>\n",
       "      <th>00120b2a358302b2605d48eb895d9f0e</th>\n",
       "      <td>1</td>\n",
       "      <td>0</td>\n",
       "    </tr>\n",
       "  </tbody>\n",
       "</table>\n",
       "</div>"
      ],
      "text/plain": [
       "                                  pred  test\n",
       "00016f6ad820aa24940343f837799519     1     1\n",
       "000b95c95aa093c5740ec34db21bf720     1     0\n",
       "000d3745dc9d10720d23c0b3fd952990     1     1\n",
       "000ea68b356465cba3fd2bce92adb19b     1     1\n",
       "00120b2a358302b2605d48eb895d9f0e     1     0"
      ]
     },
     "execution_count": 396,
     "metadata": {},
     "output_type": "execute_result"
    }
   ],
   "source": [
    "df_result = pd.DataFrame(user_predicted_and_test_dict).T\n",
    "df_result.head()"
   ]
  },
  {
   "cell_type": "code",
   "execution_count": 397,
   "metadata": {},
   "outputs": [
    {
     "data": {
      "text/plain": [
       "(8147, 2)"
      ]
     },
     "execution_count": 397,
     "metadata": {},
     "output_type": "execute_result"
    }
   ],
   "source": [
    "df_result[\n",
    "    (df_result['test'] == 1) &\n",
    "    (df_result['pred'] == 1)\n",
    "].shape"
   ]
  },
  {
   "cell_type": "code",
   "execution_count": 398,
   "metadata": {},
   "outputs": [
    {
     "name": "stdout",
     "output_type": "stream",
     "text": [
      "              precision    recall  f1-score   support\n",
      "\n",
      "           0       0.74      0.90      0.81    119149\n",
      "           1       0.41      0.18      0.25     45944\n",
      "\n",
      "   micro avg       0.70      0.70      0.70    165093\n",
      "   macro avg       0.58      0.54      0.53    165093\n",
      "weighted avg       0.65      0.70      0.66    165093\n",
      "\n"
     ]
    }
   ],
   "source": [
    "print(classification_report(df_result['test'], df_result['pred']))"
   ]
  },
  {
   "cell_type": "code",
   "execution_count": 399,
   "metadata": {},
   "outputs": [
    {
     "name": "stdout",
     "output_type": "stream",
     "text": [
      "[[107634  11515]\n",
      " [ 37797   8147]]\n"
     ]
    }
   ],
   "source": [
    "print(confusion_matrix(df_result['test'], df_result['pred']))"
   ]
  },
  {
   "cell_type": "code",
   "execution_count": null,
   "metadata": {},
   "outputs": [],
   "source": []
  }
 ],
 "metadata": {
  "kernelspec": {
   "display_name": "Python 3",
   "language": "python",
   "name": "python3"
  },
  "language_info": {
   "codemirror_mode": {
    "name": "ipython",
    "version": 3
   },
   "file_extension": ".py",
   "mimetype": "text/x-python",
   "name": "python",
   "nbconvert_exporter": "python",
   "pygments_lexer": "ipython3",
   "version": "3.7.1"
  }
 },
 "nbformat": 4,
 "nbformat_minor": 2
}
