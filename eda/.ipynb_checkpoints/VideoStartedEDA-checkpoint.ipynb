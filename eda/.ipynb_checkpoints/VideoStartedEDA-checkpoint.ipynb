{
 "cells": [
  {
   "cell_type": "code",
   "execution_count": 13,
   "metadata": {},
   "outputs": [],
   "source": [
    "import pandas as pd\n",
    "import numpy as np\n",
    "import matplotlib.pyplot as plt\n",
    "import seaborn as sns\n",
    "import datetime\n",
    "import seaborn as sns"
   ]
  },
  {
   "cell_type": "code",
   "execution_count": null,
   "metadata": {},
   "outputs": [],
   "source": []
  },
  {
   "cell_type": "code",
   "execution_count": 14,
   "metadata": {},
   "outputs": [],
   "source": [
    "df_video_started = pd.read_csv('../Data/VideoStarted.csv')"
   ]
  },
  {
   "cell_type": "code",
   "execution_count": 3,
   "metadata": {},
   "outputs": [
    {
     "data": {
      "text/html": [
       "<div>\n",
       "<style scoped>\n",
       "    .dataframe tbody tr th:only-of-type {\n",
       "        vertical-align: middle;\n",
       "    }\n",
       "\n",
       "    .dataframe tbody tr th {\n",
       "        vertical-align: top;\n",
       "    }\n",
       "\n",
       "    .dataframe thead th {\n",
       "        text-align: right;\n",
       "    }\n",
       "</style>\n",
       "<table border=\"1\" class=\"dataframe\">\n",
       "  <thead>\n",
       "    <tr style=\"text-align: right;\">\n",
       "      <th></th>\n",
       "      <th>UserId</th>\n",
       "      <th>Date</th>\n",
       "      <th>Minute_Of_Day</th>\n",
       "      <th>Second</th>\n",
       "      <th>State</th>\n",
       "      <th>Genre</th>\n",
       "      <th>Category</th>\n",
       "      <th>ProgramType</th>\n",
       "      <th>Country</th>\n",
       "      <th>Device</th>\n",
       "      <th>OS</th>\n",
       "      <th>VideoId</th>\n",
       "    </tr>\n",
       "  </thead>\n",
       "  <tbody>\n",
       "    <tr>\n",
       "      <th>0</th>\n",
       "      <td>0280dfdd112732a3ac12b12dc770b7af</td>\n",
       "      <td>20170106</td>\n",
       "      <td>0</td>\n",
       "      <td>8</td>\n",
       "      <td>35</td>\n",
       "      <td>Romance</td>\n",
       "      <td>vod</td>\n",
       "      <td>Movies</td>\n",
       "      <td>1</td>\n",
       "      <td>1</td>\n",
       "      <td>2</td>\n",
       "      <td>36a27b379622f342ec87f9aafadb8f94</td>\n",
       "    </tr>\n",
       "    <tr>\n",
       "      <th>1</th>\n",
       "      <td>435d41ae019cb8db785483793859c9a8</td>\n",
       "      <td>20170106</td>\n",
       "      <td>0</td>\n",
       "      <td>28</td>\n",
       "      <td>35</td>\n",
       "      <td>Anime</td>\n",
       "      <td>vod</td>\n",
       "      <td>TV Shows</td>\n",
       "      <td>1</td>\n",
       "      <td>1</td>\n",
       "      <td>1</td>\n",
       "      <td>a4d9b88c7ed63d723c70b358a857719c</td>\n",
       "    </tr>\n",
       "    <tr>\n",
       "      <th>2</th>\n",
       "      <td>1faf0ce0b98e02e1568702f516f01a78</td>\n",
       "      <td>20170106</td>\n",
       "      <td>0</td>\n",
       "      <td>36</td>\n",
       "      <td>35</td>\n",
       "      <td>Drama</td>\n",
       "      <td>vod</td>\n",
       "      <td>TV Shows</td>\n",
       "      <td>1</td>\n",
       "      <td>1</td>\n",
       "      <td>1</td>\n",
       "      <td>806660cb47633263a24bbc53238a9a53</td>\n",
       "    </tr>\n",
       "    <tr>\n",
       "      <th>3</th>\n",
       "      <td>3ec691b9d2b5d53ef965fe59b1900b30</td>\n",
       "      <td>20170106</td>\n",
       "      <td>0</td>\n",
       "      <td>48</td>\n",
       "      <td>35</td>\n",
       "      <td>Drama</td>\n",
       "      <td>vod</td>\n",
       "      <td>TV Shows</td>\n",
       "      <td>1</td>\n",
       "      <td>2</td>\n",
       "      <td>2</td>\n",
       "      <td>385114825a85d6878e7a0978f9ba5546</td>\n",
       "    </tr>\n",
       "    <tr>\n",
       "      <th>4</th>\n",
       "      <td>ff230d487a7139b65f33b54a4cbd2d9e</td>\n",
       "      <td>20170106</td>\n",
       "      <td>0</td>\n",
       "      <td>56</td>\n",
       "      <td>35</td>\n",
       "      <td>Comedy</td>\n",
       "      <td>vod</td>\n",
       "      <td>Movies</td>\n",
       "      <td>1</td>\n",
       "      <td>1</td>\n",
       "      <td>1</td>\n",
       "      <td>368a480ec0ae105aee8320dd93483e39</td>\n",
       "    </tr>\n",
       "  </tbody>\n",
       "</table>\n",
       "</div>"
      ],
      "text/plain": [
       "                             UserId      Date  Minute_Of_Day  Second  State  \\\n",
       "0  0280dfdd112732a3ac12b12dc770b7af  20170106              0       8     35   \n",
       "1  435d41ae019cb8db785483793859c9a8  20170106              0      28     35   \n",
       "2  1faf0ce0b98e02e1568702f516f01a78  20170106              0      36     35   \n",
       "3  3ec691b9d2b5d53ef965fe59b1900b30  20170106              0      48     35   \n",
       "4  ff230d487a7139b65f33b54a4cbd2d9e  20170106              0      56     35   \n",
       "\n",
       "       Genre Category ProgramType  Country  Device  OS  \\\n",
       "0   Romance      vod       Movies        1       1   2   \n",
       "1     Anime      vod     TV Shows        1       1   1   \n",
       "2     Drama      vod     TV Shows        1       1   1   \n",
       "3     Drama      vod     TV Shows        1       2   2   \n",
       "4    Comedy      vod       Movies        1       1   1   \n",
       "\n",
       "                            VideoId  \n",
       "0  36a27b379622f342ec87f9aafadb8f94  \n",
       "1  a4d9b88c7ed63d723c70b358a857719c  \n",
       "2  806660cb47633263a24bbc53238a9a53  \n",
       "3  385114825a85d6878e7a0978f9ba5546  \n",
       "4  368a480ec0ae105aee8320dd93483e39  "
      ]
     },
     "execution_count": 3,
     "metadata": {},
     "output_type": "execute_result"
    }
   ],
   "source": [
    "df_video_started.head()"
   ]
  },
  {
   "cell_type": "code",
   "execution_count": 4,
   "metadata": {},
   "outputs": [],
   "source": [
    "def make_timestamp(row):\n",
    "    date_as_string = str(row['Date'])\n",
    "    hour = str(row['Minute_Of_Day'] // (60))\n",
    "    minute = str(row['Minute_Of_Day'] % 60)\n",
    "    \n",
    "    if len(hour) == 1:\n",
    "        hour = '0' + hour\n",
    "        \n",
    "    if len(minute) == 1:\n",
    "        minute = '0' + minute\n",
    "    \n",
    "    date_string = date_as_string[:4] + '-' + date_as_string[4:6] + '-' + date_as_string[6:] + ' ' + hour + ':' + minute\n",
    "    datetime_object = datetime.datetime.strptime(date_string, '%Y-%m-%d %H:%M')\n",
    "    return datetime_object"
   ]
  },
  {
   "cell_type": "code",
   "execution_count": 5,
   "metadata": {},
   "outputs": [],
   "source": [
    "df_video_started['Date'] = df_video_started.apply(make_timestamp,axis=1)"
   ]
  },
  {
   "cell_type": "code",
   "execution_count": 6,
   "metadata": {},
   "outputs": [
    {
     "data": {
      "text/plain": [
       "0         2017-01-06 00:00:00\n",
       "1         2017-01-06 00:00:00\n",
       "2         2017-01-06 00:00:00\n",
       "3         2017-01-06 00:00:00\n",
       "4         2017-01-06 00:00:00\n",
       "5         2017-01-06 00:01:00\n",
       "6         2017-01-06 00:01:00\n",
       "7         2017-01-06 00:01:00\n",
       "8         2017-01-06 00:01:00\n",
       "9         2017-01-06 00:01:00\n",
       "10        2017-01-06 00:01:00\n",
       "11        2017-01-06 00:01:00\n",
       "12        2017-01-06 00:02:00\n",
       "13        2017-01-06 00:02:00\n",
       "14        2017-01-06 00:02:00\n",
       "15        2017-01-06 00:02:00\n",
       "16        2017-01-06 00:02:00\n",
       "17        2017-01-06 00:02:00\n",
       "18        2017-01-06 00:03:00\n",
       "19        2017-01-06 00:03:00\n",
       "20        2017-01-06 00:03:00\n",
       "21        2017-01-06 00:03:00\n",
       "22        2017-01-06 00:03:00\n",
       "23        2017-01-06 00:04:00\n",
       "24        2017-01-06 00:04:00\n",
       "25        2017-01-06 00:04:00\n",
       "26        2017-01-06 00:04:00\n",
       "27        2017-01-06 00:04:00\n",
       "28        2017-01-06 00:04:00\n",
       "29        2017-01-06 00:04:00\n",
       "                  ...        \n",
       "1796495   2017-06-12 23:57:00\n",
       "1796496   2017-06-12 23:57:00\n",
       "1796497   2017-06-12 23:57:00\n",
       "1796498   2017-06-12 23:57:00\n",
       "1796499   2017-06-12 23:57:00\n",
       "1796500   2017-06-12 23:57:00\n",
       "1796501   2017-06-12 23:58:00\n",
       "1796502   2017-06-12 23:58:00\n",
       "1796503   2017-06-12 23:58:00\n",
       "1796504   2017-06-12 23:58:00\n",
       "1796505   2017-06-12 23:58:00\n",
       "1796506   2017-06-12 23:58:00\n",
       "1796507   2017-06-12 23:58:00\n",
       "1796508   2017-06-12 23:58:00\n",
       "1796509   2017-06-12 23:58:00\n",
       "1796510   2017-06-12 23:58:00\n",
       "1796511   2017-06-12 23:58:00\n",
       "1796512   2017-06-12 23:58:00\n",
       "1796513   2017-06-12 23:58:00\n",
       "1796514   2017-06-12 23:58:00\n",
       "1796515   2017-06-12 23:58:00\n",
       "1796516   2017-06-12 23:58:00\n",
       "1796517   2017-06-12 23:58:00\n",
       "1796518   2017-06-12 23:59:00\n",
       "1796519   2017-06-12 23:59:00\n",
       "1796520   2017-06-12 23:59:00\n",
       "1796521   2017-06-12 23:59:00\n",
       "1796522   2017-06-12 23:59:00\n",
       "1796523   2017-06-12 23:59:00\n",
       "1796524   2017-06-12 23:59:00\n",
       "Name: Date, Length: 1796525, dtype: datetime64[ns]"
      ]
     },
     "execution_count": 6,
     "metadata": {},
     "output_type": "execute_result"
    }
   ],
   "source": [
    "df_video_started['Date']"
   ]
  },
  {
   "cell_type": "code",
   "execution_count": 7,
   "metadata": {},
   "outputs": [
    {
     "data": {
      "text/plain": [
       "<matplotlib.axes._subplots.AxesSubplot at 0x1a1ef6c048>"
      ]
     },
     "execution_count": 7,
     "metadata": {},
     "output_type": "execute_result"
    },
    {
     "data": {
      "image/png": "[encoded data removed]",
      "text/plain": [
       "<Figure size 432x288 with 1 Axes>"
      ]
     },
     "metadata": {
      "needs_background": "light"
     },
     "output_type": "display_data"
    }
   ],
   "source": [
    "sns.countplot(x=df_video_started['ProgramType'],hue=df_video_started['Category'])"
   ]
  },
  {
   "cell_type": "code",
   "execution_count": 8,
   "metadata": {},
   "outputs": [
    {
     "data": {
      "text/plain": [
       "[Text(0,0,'Desktop'), Text(0,0,'Mobile'), Text(0,0,'Tablet'), Text(0,0,'TV')]"
      ]
     },
     "execution_count": 8,
     "metadata": {},
     "output_type": "execute_result"
    },
    {
     "data": {
      "image/png": "[encoded data removed]",
      "text/plain": [
       "<Figure size 432x288 with 1 Axes>"
      ]
     },
     "metadata": {
      "needs_background": "light"
     },
     "output_type": "display_data"
    }
   ],
   "source": [
    "ax = sns.countplot(x=df_video_started['Device'],hue=df_video_started['Category'])\n",
    "ax.set_xticklabels(['Desktop','Mobile','Tablet','TV'],rotation='horizontal',fontsize=10)"
   ]
  },
  {
   "cell_type": "code",
   "execution_count": 9,
   "metadata": {},
   "outputs": [
    {
     "data": {
      "text/plain": [
       "1    1485166\n",
       "2     311315\n",
       "0         44\n",
       "Name: OS, dtype: int64"
      ]
     },
     "execution_count": 9,
     "metadata": {},
     "output_type": "execute_result"
    }
   ],
   "source": [
    "df_video_started.OS.value_counts()"
   ]
  },
  {
   "cell_type": "code",
   "execution_count": 10,
   "metadata": {},
   "outputs": [
    {
     "data": {
      "text/plain": [
       "[Text(0,0,'Desktop'), Text(0,0,'Mobile'), Text(0,0,'Tablet'), Text(0,0,'TV')]"
      ]
     },
     "execution_count": 10,
     "metadata": {},
     "output_type": "execute_result"
    },
    {
     "data": {
      "image/png": "[encoded data removed]",
      "text/plain": [
       "<Figure size 432x288 with 1 Axes>"
      ]
     },
     "metadata": {
      "needs_background": "light"
     },
     "output_type": "display_data"
    }
   ],
   "source": [
    "ax = sns.countplot(x=df_video_started['Device'],hue=df_video_started['OS'])\n",
    "ax.set_xticklabels(['Desktop','Mobile','Tablet','TV'],rotation='horizontal',fontsize=10)\n"
   ]
  },
  {
   "cell_type": "code",
   "execution_count": null,
   "metadata": {},
   "outputs": [],
   "source": [
    "#Starting with date & time of day columns of VideoDetails data\n",
    "#Splitting the date column into month & day\n",
    "df_video_started['month'] = df_video_started['Date'].dt.strftime('%b')\n",
    "df_video_started['day_of_month']= df_video_started['Date'].dt.day\n",
    "\n",
    "#Grouping by month & day, aggregating based on count of video details viewed for each day of each month\n",
    "df_groupedby_month_and_day = df_video_started.groupby(by=['month','day_of_month']).count().reset_index()\n",
    "\n",
    "#Plotting the stacked line chart for each day of each month\n",
    "plt.figure(figsize=(16, 7))\n",
    "sns.pointplot(x=\"day_of_month\", y=\"UserId\", hue=\"month\", data=df_groupedby_month_and_day)\n",
    "plt.xlabel(\"Day of Month\")\n",
    "plt.ylabel(\"No. of VideoViewed\")\n",
    "plt.title(\"VARIATION IN VIDEOS DETAILS VIEWED FROM JAN TO MAY\")\n",
    "plt.legend(loc='upper right')"
   ]
  },
  {
   "cell_type": "code",
   "execution_count": 15,
   "metadata": {},
   "outputs": [
    {
     "data": {
      "text/plain": [
       "UserId           0\n",
       "Date             0\n",
       "Minute_Of_Day    0\n",
       "Second           0\n",
       "State            0\n",
       "Genre            0\n",
       "Category         0\n",
       "ProgramType      0\n",
       "Country          0\n",
       "Device           0\n",
       "OS               0\n",
       "VideoId          0\n",
       "dtype: int64"
      ]
     },
     "execution_count": 15,
     "metadata": {},
     "output_type": "execute_result"
    }
   ],
   "source": [
    "df_video_started.isna().sum()"
   ]
  },
  {
   "cell_type": "code",
   "execution_count": 17,
   "metadata": {},
   "outputs": [
    {
     "data": {
      "text/plain": [
       "UserId           0\n",
       "Date             0\n",
       "Minute_Of_Day    0\n",
       "Second           0\n",
       "State            0\n",
       "Genre            0\n",
       "Category         0\n",
       "ProgramType      0\n",
       "Country          0\n",
       "Device           0\n",
       "OS               0\n",
       "VideoId          0\n",
       "dtype: int64"
      ]
     },
     "execution_count": 17,
     "metadata": {},
     "output_type": "execute_result"
    }
   ],
   "source": [
    "df_video_started.isnull().sum()"
   ]
  },
  {
   "cell_type": "code",
   "execution_count": 18,
   "metadata": {},
   "outputs": [
    {
     "data": {
      "text/plain": [
       "UserId           0\n",
       "Date             0\n",
       "Minute_Of_Day    0\n",
       "Second           0\n",
       "State            0\n",
       "Genre            0\n",
       "Category         0\n",
       "ProgramType      0\n",
       "Country          0\n",
       "Device           0\n",
       "OS               0\n",
       "VideoId          0\n",
       "dtype: int64"
      ]
     },
     "execution_count": 18,
     "metadata": {},
     "output_type": "execute_result"
    }
   ],
   "source": [
    "(df_video_started == '').sum()"
   ]
  },
  {
   "cell_type": "code",
   "execution_count": null,
   "metadata": {},
   "outputs": [],
   "source": []
  }
 ],
 "metadata": {
  "kernelspec": {
   "display_name": "Python 3",
   "language": "python",
   "name": "python3"
  },
  "language_info": {
   "codemirror_mode": {
    "name": "ipython",
    "version": 3
   },
   "file_extension": ".py",
   "mimetype": "text/x-python",
   "name": "python",
   "nbconvert_exporter": "python",
   "pygments_lexer": "ipython3",
   "version": "3.6.8"
  }
 },
 "nbformat": 4,
 "nbformat_minor": 2
}
