{
 "cells": [
  {
   "cell_type": "markdown",
   "metadata": {},
   "source": [
    "# CAPSTONE PROJECT: Segment the audience of a content app based on its user’s propensity to watch a video in the next 2\n",
    "days\n",
    "Group 4: Clyde M, Krupa S, Pranav N, Rushabh M,Rajesh B\n",
    "Date: 02/03/2019 -  17/03/2019\n"
   ]
  },
  {
   "cell_type": "code",
   "execution_count": 60,
   "metadata": {},
   "outputs": [],
   "source": [
    "#Libraraies used\n",
    "import os\n",
    "os.getcwd()\n",
    "os.chdir(\"F:\\Rajesh\\GreyAtom\\Capstone\\Data\")\n",
    "os.getcwd()\n",
    "\n",
    "import pandas as pd\n",
    "import numpy as np\n",
    "import seaborn as sns\n",
    "import matplotlib.pyplot as plt\n",
    "from datetime import datetime\n",
    "from sklearn.preprocessing import LabelEncoder\n",
    "from sklearn.model_selection import cross_val_score, train_test_split\n",
    "from sklearn.linear_model import LogisticRegression\n",
    "from sklearn.metrics import classification_report, accuracy_score, confusion_matrix\n",
    "from sklearn.svm import SVC\n",
    "from sklearn.ensemble import RandomForestClassifier, VotingClassifier\n",
    "from sklearn.feature_selection import RFE\n",
    "from xgboost import XGBClassifier\n",
    "from imblearn.over_sampling import SMOTE\n",
    "from scipy.stats.mstats import winsorize\n",
    "from sklearn.preprocessing import MinMaxScaler\n",
    "from sklearn.model_selection import GridSearchCV\n",
    "from sklearn.metrics import roc_curve, auc, roc_auc_score\n",
    "from sklearn.naive_bayes import GaussianNB\n",
    "from sklearn.neighbors import  KNeighborsClassifier\n",
    "from sklearn.metrics import confusion_matrix"
   ]
  },
  {
   "cell_type": "code",
   "execution_count": 61,
   "metadata": {},
   "outputs": [],
   "source": [
    "df1 = pd.read_csv('AppLaunched.csv')\n",
    "df2 = pd.read_csv('AppUninstalled.csv')\n",
    "df3 = pd.read_csv('Registration.csv')\n",
    "df4 = pd.read_csv('UTMVisited.csv')\n",
    "df5 = pd.read_csv('VideoDetails.csv')\n",
    "df6 = pd.read_csv('VideoStarted.csv')\n",
    "\n",
    "# df1 = df.copy()"
   ]
  },
  {
   "cell_type": "code",
   "execution_count": 62,
   "metadata": {},
   "outputs": [
    {
     "data": {
      "text/html": [
       "<div>\n",
       "<style scoped>\n",
       "    .dataframe tbody tr th:only-of-type {\n",
       "        vertical-align: middle;\n",
       "    }\n",
       "\n",
       "    .dataframe tbody tr th {\n",
       "        vertical-align: top;\n",
       "    }\n",
       "\n",
       "    .dataframe thead th {\n",
       "        text-align: right;\n",
       "    }\n",
       "</style>\n",
       "<table border=\"1\" class=\"dataframe\">\n",
       "  <thead>\n",
       "    <tr style=\"text-align: right;\">\n",
       "      <th></th>\n",
       "      <th>UserId</th>\n",
       "      <th>Date</th>\n",
       "      <th>Minute_Of_Day</th>\n",
       "      <th>Second</th>\n",
       "      <th>State</th>\n",
       "      <th>Country</th>\n",
       "      <th>Device</th>\n",
       "      <th>OS</th>\n",
       "    </tr>\n",
       "  </thead>\n",
       "  <tbody>\n",
       "    <tr>\n",
       "      <th>0</th>\n",
       "      <td>a27134c322d4f56dabc106a6847cb96b</td>\n",
       "      <td>20170106</td>\n",
       "      <td>0</td>\n",
       "      <td>4</td>\n",
       "      <td>50</td>\n",
       "      <td>1</td>\n",
       "      <td>1</td>\n",
       "      <td>2</td>\n",
       "    </tr>\n",
       "    <tr>\n",
       "      <th>1</th>\n",
       "      <td>aab39ad0874c59cc388525d511667f9d</td>\n",
       "      <td>20170106</td>\n",
       "      <td>0</td>\n",
       "      <td>8</td>\n",
       "      <td>40</td>\n",
       "      <td>1</td>\n",
       "      <td>1</td>\n",
       "      <td>2</td>\n",
       "    </tr>\n",
       "    <tr>\n",
       "      <th>2</th>\n",
       "      <td>f717dc3f757dc18cc0c3f27ed3e94ef8</td>\n",
       "      <td>20170106</td>\n",
       "      <td>0</td>\n",
       "      <td>12</td>\n",
       "      <td>35</td>\n",
       "      <td>1</td>\n",
       "      <td>1</td>\n",
       "      <td>2</td>\n",
       "    </tr>\n",
       "    <tr>\n",
       "      <th>3</th>\n",
       "      <td>04c1e14fd54a06c0d4fe98cf0cb8b04c</td>\n",
       "      <td>20170106</td>\n",
       "      <td>0</td>\n",
       "      <td>20</td>\n",
       "      <td>40</td>\n",
       "      <td>1</td>\n",
       "      <td>2</td>\n",
       "      <td>2</td>\n",
       "    </tr>\n",
       "    <tr>\n",
       "      <th>4</th>\n",
       "      <td>71f05822bb699a04b694dd30265fdf73</td>\n",
       "      <td>20170106</td>\n",
       "      <td>0</td>\n",
       "      <td>20</td>\n",
       "      <td>35</td>\n",
       "      <td>1</td>\n",
       "      <td>1</td>\n",
       "      <td>2</td>\n",
       "    </tr>\n",
       "  </tbody>\n",
       "</table>\n",
       "</div>"
      ],
      "text/plain": [
       "                             UserId      Date  Minute_Of_Day  Second  State  \\\n",
       "0  a27134c322d4f56dabc106a6847cb96b  20170106              0       4     50   \n",
       "1  aab39ad0874c59cc388525d511667f9d  20170106              0       8     40   \n",
       "2  f717dc3f757dc18cc0c3f27ed3e94ef8  20170106              0      12     35   \n",
       "3  04c1e14fd54a06c0d4fe98cf0cb8b04c  20170106              0      20     40   \n",
       "4  71f05822bb699a04b694dd30265fdf73  20170106              0      20     35   \n",
       "\n",
       "   Country  Device  OS  \n",
       "0        1       1   2  \n",
       "1        1       1   2  \n",
       "2        1       1   2  \n",
       "3        1       2   2  \n",
       "4        1       1   2  "
      ]
     },
     "execution_count": 62,
     "metadata": {},
     "output_type": "execute_result"
    }
   ],
   "source": [
    "df1.head()"
   ]
  },
  {
   "cell_type": "code",
   "execution_count": 63,
   "metadata": {},
   "outputs": [
    {
     "data": {
      "text/plain": [
       "(2716093, 8)"
      ]
     },
     "execution_count": 63,
     "metadata": {},
     "output_type": "execute_result"
    }
   ],
   "source": [
    "df1.shape"
   ]
  },
  {
   "cell_type": "code",
   "execution_count": null,
   "metadata": {},
   "outputs": [],
   "source": []
  },
  {
   "cell_type": "code",
   "execution_count": 64,
   "metadata": {},
   "outputs": [
    {
     "data": {
      "text/plain": [
       "(326684, 8)"
      ]
     },
     "execution_count": 64,
     "metadata": {},
     "output_type": "execute_result"
    }
   ],
   "source": [
    "df2.shape"
   ]
  },
  {
   "cell_type": "code",
   "execution_count": 65,
   "metadata": {},
   "outputs": [
    {
     "data": {
      "text/plain": [
       "(329579, 9)"
      ]
     },
     "execution_count": 65,
     "metadata": {},
     "output_type": "execute_result"
    }
   ],
   "source": [
    "df3.shape"
   ]
  },
  {
   "cell_type": "code",
   "execution_count": 66,
   "metadata": {},
   "outputs": [
    {
     "data": {
      "text/plain": [
       "(495850, 8)"
      ]
     },
     "execution_count": 66,
     "metadata": {},
     "output_type": "execute_result"
    }
   ],
   "source": [
    "df4.shape"
   ]
  },
  {
   "cell_type": "code",
   "execution_count": 67,
   "metadata": {},
   "outputs": [
    {
     "data": {
      "text/plain": [
       "(3695451, 12)"
      ]
     },
     "execution_count": 67,
     "metadata": {},
     "output_type": "execute_result"
    }
   ],
   "source": [
    "df5.shape"
   ]
  },
  {
   "cell_type": "code",
   "execution_count": 68,
   "metadata": {},
   "outputs": [
    {
     "data": {
      "text/plain": [
       "(1796525, 12)"
      ]
     },
     "execution_count": 68,
     "metadata": {},
     "output_type": "execute_result"
    }
   ],
   "source": [
    "df6.shape"
   ]
  },
  {
   "cell_type": "code",
   "execution_count": 69,
   "metadata": {},
   "outputs": [
    {
     "data": {
      "text/html": [
       "<div>\n",
       "<style scoped>\n",
       "    .dataframe tbody tr th:only-of-type {\n",
       "        vertical-align: middle;\n",
       "    }\n",
       "\n",
       "    .dataframe tbody tr th {\n",
       "        vertical-align: top;\n",
       "    }\n",
       "\n",
       "    .dataframe thead th {\n",
       "        text-align: right;\n",
       "    }\n",
       "</style>\n",
       "<table border=\"1\" class=\"dataframe\">\n",
       "  <thead>\n",
       "    <tr style=\"text-align: right;\">\n",
       "      <th></th>\n",
       "      <th>UserId</th>\n",
       "      <th>Date</th>\n",
       "      <th>Minute_Of_Day</th>\n",
       "      <th>Second</th>\n",
       "      <th>State</th>\n",
       "      <th>Country</th>\n",
       "      <th>Device</th>\n",
       "      <th>OS</th>\n",
       "    </tr>\n",
       "  </thead>\n",
       "  <tbody>\n",
       "    <tr>\n",
       "      <th>0</th>\n",
       "      <td>0d5f4cc176a4e1c648a9b9b5dbe21d69</td>\n",
       "      <td>20170106</td>\n",
       "      <td>0</td>\n",
       "      <td>0</td>\n",
       "      <td>47</td>\n",
       "      <td>1</td>\n",
       "      <td>1</td>\n",
       "      <td>1</td>\n",
       "    </tr>\n",
       "    <tr>\n",
       "      <th>1</th>\n",
       "      <td>807018f66aba113be576eb8afa4ea4b6</td>\n",
       "      <td>20170106</td>\n",
       "      <td>0</td>\n",
       "      <td>0</td>\n",
       "      <td>6</td>\n",
       "      <td>1</td>\n",
       "      <td>1</td>\n",
       "      <td>1</td>\n",
       "    </tr>\n",
       "    <tr>\n",
       "      <th>2</th>\n",
       "      <td>763e66e04918d8b8a7e69a778f5a742a</td>\n",
       "      <td>20170106</td>\n",
       "      <td>1</td>\n",
       "      <td>0</td>\n",
       "      <td>41</td>\n",
       "      <td>1</td>\n",
       "      <td>1</td>\n",
       "      <td>1</td>\n",
       "    </tr>\n",
       "    <tr>\n",
       "      <th>3</th>\n",
       "      <td>4ee1ed456fa04fc42168a9787b54b549</td>\n",
       "      <td>20170106</td>\n",
       "      <td>1</td>\n",
       "      <td>0</td>\n",
       "      <td>37</td>\n",
       "      <td>1</td>\n",
       "      <td>1</td>\n",
       "      <td>1</td>\n",
       "    </tr>\n",
       "    <tr>\n",
       "      <th>4</th>\n",
       "      <td>253e758a5557f9de890e814d901f6906</td>\n",
       "      <td>20170106</td>\n",
       "      <td>6</td>\n",
       "      <td>0</td>\n",
       "      <td>46</td>\n",
       "      <td>40</td>\n",
       "      <td>1</td>\n",
       "      <td>1</td>\n",
       "    </tr>\n",
       "  </tbody>\n",
       "</table>\n",
       "</div>"
      ],
      "text/plain": [
       "                             UserId      Date  Minute_Of_Day  Second  State  \\\n",
       "0  0d5f4cc176a4e1c648a9b9b5dbe21d69  20170106              0       0     47   \n",
       "1  807018f66aba113be576eb8afa4ea4b6  20170106              0       0      6   \n",
       "2  763e66e04918d8b8a7e69a778f5a742a  20170106              1       0     41   \n",
       "3  4ee1ed456fa04fc42168a9787b54b549  20170106              1       0     37   \n",
       "4  253e758a5557f9de890e814d901f6906  20170106              6       0     46   \n",
       "\n",
       "   Country  Device  OS  \n",
       "0        1       1   1  \n",
       "1        1       1   1  \n",
       "2        1       1   1  \n",
       "3        1       1   1  \n",
       "4       40       1   1  "
      ]
     },
     "execution_count": 69,
     "metadata": {},
     "output_type": "execute_result"
    }
   ],
   "source": [
    "df2.head()"
   ]
  },
  {
   "cell_type": "code",
   "execution_count": 70,
   "metadata": {},
   "outputs": [
    {
     "data": {
      "text/html": [
       "<div>\n",
       "<style scoped>\n",
       "    .dataframe tbody tr th:only-of-type {\n",
       "        vertical-align: middle;\n",
       "    }\n",
       "\n",
       "    .dataframe tbody tr th {\n",
       "        vertical-align: top;\n",
       "    }\n",
       "\n",
       "    .dataframe thead th {\n",
       "        text-align: right;\n",
       "    }\n",
       "</style>\n",
       "<table border=\"1\" class=\"dataframe\">\n",
       "  <thead>\n",
       "    <tr style=\"text-align: right;\">\n",
       "      <th></th>\n",
       "      <th>UserId</th>\n",
       "      <th>Date</th>\n",
       "      <th>Minute_Of_Day</th>\n",
       "      <th>Second</th>\n",
       "      <th>State</th>\n",
       "      <th>Country</th>\n",
       "      <th>Device</th>\n",
       "      <th>OS</th>\n",
       "      <th>Status</th>\n",
       "    </tr>\n",
       "  </thead>\n",
       "  <tbody>\n",
       "    <tr>\n",
       "      <th>0</th>\n",
       "      <td>d168e2b924124feaad13eae44a68fce9</td>\n",
       "      <td>20170106</td>\n",
       "      <td>0</td>\n",
       "      <td>8</td>\n",
       "      <td>35</td>\n",
       "      <td>1</td>\n",
       "      <td>1</td>\n",
       "      <td>2</td>\n",
       "      <td>Complete</td>\n",
       "    </tr>\n",
       "    <tr>\n",
       "      <th>1</th>\n",
       "      <td>deed7490952a6746610ee2ee9fd219b7</td>\n",
       "      <td>20170106</td>\n",
       "      <td>0</td>\n",
       "      <td>8</td>\n",
       "      <td>7</td>\n",
       "      <td>40</td>\n",
       "      <td>1</td>\n",
       "      <td>1</td>\n",
       "      <td>Completed</td>\n",
       "    </tr>\n",
       "    <tr>\n",
       "      <th>2</th>\n",
       "      <td>13d9f55e297d7d9c219fbe9085e1006c</td>\n",
       "      <td>20170106</td>\n",
       "      <td>0</td>\n",
       "      <td>28</td>\n",
       "      <td>35</td>\n",
       "      <td>1</td>\n",
       "      <td>1</td>\n",
       "      <td>2</td>\n",
       "      <td>Complete</td>\n",
       "    </tr>\n",
       "    <tr>\n",
       "      <th>3</th>\n",
       "      <td>fccc2c0abf5afabf242a70df7b4c9e69</td>\n",
       "      <td>20170106</td>\n",
       "      <td>0</td>\n",
       "      <td>52</td>\n",
       "      <td>39</td>\n",
       "      <td>1</td>\n",
       "      <td>1</td>\n",
       "      <td>1</td>\n",
       "      <td>Completed</td>\n",
       "    </tr>\n",
       "    <tr>\n",
       "      <th>4</th>\n",
       "      <td>9ff982b29d78cefc8eb5a3ffb7fd2a5d</td>\n",
       "      <td>20170106</td>\n",
       "      <td>0</td>\n",
       "      <td>52</td>\n",
       "      <td>38</td>\n",
       "      <td>1</td>\n",
       "      <td>1</td>\n",
       "      <td>1</td>\n",
       "      <td>Not Completed</td>\n",
       "    </tr>\n",
       "  </tbody>\n",
       "</table>\n",
       "</div>"
      ],
      "text/plain": [
       "                             UserId      Date  Minute_Of_Day  Second  State  \\\n",
       "0  d168e2b924124feaad13eae44a68fce9  20170106              0       8     35   \n",
       "1  deed7490952a6746610ee2ee9fd219b7  20170106              0       8      7   \n",
       "2  13d9f55e297d7d9c219fbe9085e1006c  20170106              0      28     35   \n",
       "3  fccc2c0abf5afabf242a70df7b4c9e69  20170106              0      52     39   \n",
       "4  9ff982b29d78cefc8eb5a3ffb7fd2a5d  20170106              0      52     38   \n",
       "\n",
       "   Country  Device  OS         Status  \n",
       "0        1       1   2       Complete  \n",
       "1       40       1   1      Completed  \n",
       "2        1       1   2       Complete  \n",
       "3        1       1   1      Completed  \n",
       "4        1       1   1  Not Completed  "
      ]
     },
     "execution_count": 70,
     "metadata": {},
     "output_type": "execute_result"
    }
   ],
   "source": [
    "df3.head()"
   ]
  },
  {
   "cell_type": "code",
   "execution_count": 71,
   "metadata": {},
   "outputs": [
    {
     "data": {
      "text/html": [
       "<div>\n",
       "<style scoped>\n",
       "    .dataframe tbody tr th:only-of-type {\n",
       "        vertical-align: middle;\n",
       "    }\n",
       "\n",
       "    .dataframe tbody tr th {\n",
       "        vertical-align: top;\n",
       "    }\n",
       "\n",
       "    .dataframe thead th {\n",
       "        text-align: right;\n",
       "    }\n",
       "</style>\n",
       "<table border=\"1\" class=\"dataframe\">\n",
       "  <thead>\n",
       "    <tr style=\"text-align: right;\">\n",
       "      <th></th>\n",
       "      <th>UserId</th>\n",
       "      <th>Date</th>\n",
       "      <th>Minute_Of_Day</th>\n",
       "      <th>Second</th>\n",
       "      <th>State</th>\n",
       "      <th>Country</th>\n",
       "      <th>Device</th>\n",
       "      <th>OS</th>\n",
       "    </tr>\n",
       "  </thead>\n",
       "  <tbody>\n",
       "    <tr>\n",
       "      <th>0</th>\n",
       "      <td>66d4abf4f3b733c27591b3f47c85eff7</td>\n",
       "      <td>20170106</td>\n",
       "      <td>0</td>\n",
       "      <td>52</td>\n",
       "      <td>37</td>\n",
       "      <td>1</td>\n",
       "      <td>1</td>\n",
       "      <td>1</td>\n",
       "    </tr>\n",
       "    <tr>\n",
       "      <th>1</th>\n",
       "      <td>1a40d7e5b34131b097fac80cf982241b</td>\n",
       "      <td>20170106</td>\n",
       "      <td>0</td>\n",
       "      <td>56</td>\n",
       "      <td>40</td>\n",
       "      <td>1</td>\n",
       "      <td>1</td>\n",
       "      <td>1</td>\n",
       "    </tr>\n",
       "    <tr>\n",
       "      <th>2</th>\n",
       "      <td>b7b3c1ce773a13b52d39429e305ea615</td>\n",
       "      <td>20170106</td>\n",
       "      <td>1</td>\n",
       "      <td>16</td>\n",
       "      <td>35</td>\n",
       "      <td>1</td>\n",
       "      <td>1</td>\n",
       "      <td>1</td>\n",
       "    </tr>\n",
       "    <tr>\n",
       "      <th>3</th>\n",
       "      <td>3f486a89433a02b96ab13b16c82e39fd</td>\n",
       "      <td>20170106</td>\n",
       "      <td>1</td>\n",
       "      <td>32</td>\n",
       "      <td>35</td>\n",
       "      <td>1</td>\n",
       "      <td>1</td>\n",
       "      <td>1</td>\n",
       "    </tr>\n",
       "    <tr>\n",
       "      <th>4</th>\n",
       "      <td>9ff982b29d78cefc8eb5a3ffb7fd2a5d</td>\n",
       "      <td>20170106</td>\n",
       "      <td>1</td>\n",
       "      <td>32</td>\n",
       "      <td>38</td>\n",
       "      <td>1</td>\n",
       "      <td>1</td>\n",
       "      <td>1</td>\n",
       "    </tr>\n",
       "  </tbody>\n",
       "</table>\n",
       "</div>"
      ],
      "text/plain": [
       "                             UserId      Date  Minute_Of_Day  Second  State  \\\n",
       "0  66d4abf4f3b733c27591b3f47c85eff7  20170106              0      52     37   \n",
       "1  1a40d7e5b34131b097fac80cf982241b  20170106              0      56     40   \n",
       "2  b7b3c1ce773a13b52d39429e305ea615  20170106              1      16     35   \n",
       "3  3f486a89433a02b96ab13b16c82e39fd  20170106              1      32     35   \n",
       "4  9ff982b29d78cefc8eb5a3ffb7fd2a5d  20170106              1      32     38   \n",
       "\n",
       "   Country  Device  OS  \n",
       "0        1       1   1  \n",
       "1        1       1   1  \n",
       "2        1       1   1  \n",
       "3        1       1   1  \n",
       "4        1       1   1  "
      ]
     },
     "execution_count": 71,
     "metadata": {},
     "output_type": "execute_result"
    }
   ],
   "source": [
    "df4.head()"
   ]
  },
  {
   "cell_type": "code",
   "execution_count": 72,
   "metadata": {},
   "outputs": [
    {
     "data": {
      "text/html": [
       "<div>\n",
       "<style scoped>\n",
       "    .dataframe tbody tr th:only-of-type {\n",
       "        vertical-align: middle;\n",
       "    }\n",
       "\n",
       "    .dataframe tbody tr th {\n",
       "        vertical-align: top;\n",
       "    }\n",
       "\n",
       "    .dataframe thead th {\n",
       "        text-align: right;\n",
       "    }\n",
       "</style>\n",
       "<table border=\"1\" class=\"dataframe\">\n",
       "  <thead>\n",
       "    <tr style=\"text-align: right;\">\n",
       "      <th></th>\n",
       "      <th>UserId</th>\n",
       "      <th>Date</th>\n",
       "      <th>Minute_Of_Day</th>\n",
       "      <th>Second</th>\n",
       "      <th>State</th>\n",
       "      <th>Genre</th>\n",
       "      <th>Category</th>\n",
       "      <th>ProgramType</th>\n",
       "      <th>Country</th>\n",
       "      <th>Device</th>\n",
       "      <th>OS</th>\n",
       "      <th>VideoId</th>\n",
       "    </tr>\n",
       "  </thead>\n",
       "  <tbody>\n",
       "    <tr>\n",
       "      <th>0</th>\n",
       "      <td>dc93d200565e5bf6e6fc55adb1c5ba06</td>\n",
       "      <td>20170106</td>\n",
       "      <td>0</td>\n",
       "      <td>4</td>\n",
       "      <td>35</td>\n",
       "      <td>Drama</td>\n",
       "      <td>vod</td>\n",
       "      <td>TV Shows</td>\n",
       "      <td>1</td>\n",
       "      <td>2</td>\n",
       "      <td>1</td>\n",
       "      <td>1f2dc23e0d2415353982cfa38cbaf983</td>\n",
       "    </tr>\n",
       "    <tr>\n",
       "      <th>1</th>\n",
       "      <td>12060efd8b68ea562b265d0129a8af1f</td>\n",
       "      <td>20170106</td>\n",
       "      <td>0</td>\n",
       "      <td>16</td>\n",
       "      <td>35</td>\n",
       "      <td>Horror</td>\n",
       "      <td>vod</td>\n",
       "      <td>Movies</td>\n",
       "      <td>1</td>\n",
       "      <td>1</td>\n",
       "      <td>1</td>\n",
       "      <td>6c95441f239cebf9930ac5932cc84a7f</td>\n",
       "    </tr>\n",
       "    <tr>\n",
       "      <th>2</th>\n",
       "      <td>9151ab2a901458f27e36548d4a8dc011</td>\n",
       "      <td>20170106</td>\n",
       "      <td>0</td>\n",
       "      <td>20</td>\n",
       "      <td>0</td>\n",
       "      <td>Drama</td>\n",
       "      <td>vod</td>\n",
       "      <td>TV Shows</td>\n",
       "      <td>255</td>\n",
       "      <td>1</td>\n",
       "      <td>1</td>\n",
       "      <td>1af000794c63fa2722e22af609ff572c</td>\n",
       "    </tr>\n",
       "    <tr>\n",
       "      <th>3</th>\n",
       "      <td>1faf0ce0b98e02e1568702f516f01a78</td>\n",
       "      <td>20170106</td>\n",
       "      <td>0</td>\n",
       "      <td>20</td>\n",
       "      <td>35</td>\n",
       "      <td>Drama</td>\n",
       "      <td>vod</td>\n",
       "      <td>TV Shows</td>\n",
       "      <td>1</td>\n",
       "      <td>1</td>\n",
       "      <td>1</td>\n",
       "      <td>f053c42e98d50e06532ce8d65afb3ab3</td>\n",
       "    </tr>\n",
       "    <tr>\n",
       "      <th>4</th>\n",
       "      <td>435d41ae019cb8db785483793859c9a8</td>\n",
       "      <td>20170106</td>\n",
       "      <td>0</td>\n",
       "      <td>20</td>\n",
       "      <td>35</td>\n",
       "      <td>Anime</td>\n",
       "      <td>vod</td>\n",
       "      <td>TV Shows</td>\n",
       "      <td>1</td>\n",
       "      <td>1</td>\n",
       "      <td>1</td>\n",
       "      <td>2a9d984659afc14f801548dd71ddad0e</td>\n",
       "    </tr>\n",
       "  </tbody>\n",
       "</table>\n",
       "</div>"
      ],
      "text/plain": [
       "                             UserId      Date  Minute_Of_Day  Second  State  \\\n",
       "0  dc93d200565e5bf6e6fc55adb1c5ba06  20170106              0       4     35   \n",
       "1  12060efd8b68ea562b265d0129a8af1f  20170106              0      16     35   \n",
       "2  9151ab2a901458f27e36548d4a8dc011  20170106              0      20      0   \n",
       "3  1faf0ce0b98e02e1568702f516f01a78  20170106              0      20     35   \n",
       "4  435d41ae019cb8db785483793859c9a8  20170106              0      20     35   \n",
       "\n",
       "      Genre Category ProgramType  Country  Device  OS  \\\n",
       "0    Drama      vod    TV Shows         1       2   1   \n",
       "1   Horror      vod      Movies         1       1   1   \n",
       "2    Drama      vod    TV Shows       255       1   1   \n",
       "3    Drama      vod    TV Shows         1       1   1   \n",
       "4    Anime      vod    TV Shows         1       1   1   \n",
       "\n",
       "                            VideoId  \n",
       "0  1f2dc23e0d2415353982cfa38cbaf983  \n",
       "1  6c95441f239cebf9930ac5932cc84a7f  \n",
       "2  1af000794c63fa2722e22af609ff572c  \n",
       "3  f053c42e98d50e06532ce8d65afb3ab3  \n",
       "4  2a9d984659afc14f801548dd71ddad0e  "
      ]
     },
     "execution_count": 72,
     "metadata": {},
     "output_type": "execute_result"
    }
   ],
   "source": [
    "df5.head()"
   ]
  },
  {
   "cell_type": "code",
   "execution_count": 73,
   "metadata": {},
   "outputs": [
    {
     "data": {
      "text/html": [
       "<div>\n",
       "<style scoped>\n",
       "    .dataframe tbody tr th:only-of-type {\n",
       "        vertical-align: middle;\n",
       "    }\n",
       "\n",
       "    .dataframe tbody tr th {\n",
       "        vertical-align: top;\n",
       "    }\n",
       "\n",
       "    .dataframe thead th {\n",
       "        text-align: right;\n",
       "    }\n",
       "</style>\n",
       "<table border=\"1\" class=\"dataframe\">\n",
       "  <thead>\n",
       "    <tr style=\"text-align: right;\">\n",
       "      <th></th>\n",
       "      <th>UserId</th>\n",
       "      <th>Date</th>\n",
       "      <th>Minute_Of_Day</th>\n",
       "      <th>Second</th>\n",
       "      <th>State</th>\n",
       "      <th>Genre</th>\n",
       "      <th>Category</th>\n",
       "      <th>ProgramType</th>\n",
       "      <th>Country</th>\n",
       "      <th>Device</th>\n",
       "      <th>OS</th>\n",
       "      <th>VideoId</th>\n",
       "    </tr>\n",
       "  </thead>\n",
       "  <tbody>\n",
       "    <tr>\n",
       "      <th>0</th>\n",
       "      <td>0280dfdd112732a3ac12b12dc770b7af</td>\n",
       "      <td>20170106</td>\n",
       "      <td>0</td>\n",
       "      <td>8</td>\n",
       "      <td>35</td>\n",
       "      <td>Romance</td>\n",
       "      <td>vod</td>\n",
       "      <td>Movies</td>\n",
       "      <td>1</td>\n",
       "      <td>1</td>\n",
       "      <td>2</td>\n",
       "      <td>36a27b379622f342ec87f9aafadb8f94</td>\n",
       "    </tr>\n",
       "    <tr>\n",
       "      <th>1</th>\n",
       "      <td>435d41ae019cb8db785483793859c9a8</td>\n",
       "      <td>20170106</td>\n",
       "      <td>0</td>\n",
       "      <td>28</td>\n",
       "      <td>35</td>\n",
       "      <td>Anime</td>\n",
       "      <td>vod</td>\n",
       "      <td>TV Shows</td>\n",
       "      <td>1</td>\n",
       "      <td>1</td>\n",
       "      <td>1</td>\n",
       "      <td>a4d9b88c7ed63d723c70b358a857719c</td>\n",
       "    </tr>\n",
       "    <tr>\n",
       "      <th>2</th>\n",
       "      <td>1faf0ce0b98e02e1568702f516f01a78</td>\n",
       "      <td>20170106</td>\n",
       "      <td>0</td>\n",
       "      <td>36</td>\n",
       "      <td>35</td>\n",
       "      <td>Drama</td>\n",
       "      <td>vod</td>\n",
       "      <td>TV Shows</td>\n",
       "      <td>1</td>\n",
       "      <td>1</td>\n",
       "      <td>1</td>\n",
       "      <td>806660cb47633263a24bbc53238a9a53</td>\n",
       "    </tr>\n",
       "    <tr>\n",
       "      <th>3</th>\n",
       "      <td>3ec691b9d2b5d53ef965fe59b1900b30</td>\n",
       "      <td>20170106</td>\n",
       "      <td>0</td>\n",
       "      <td>48</td>\n",
       "      <td>35</td>\n",
       "      <td>Drama</td>\n",
       "      <td>vod</td>\n",
       "      <td>TV Shows</td>\n",
       "      <td>1</td>\n",
       "      <td>2</td>\n",
       "      <td>2</td>\n",
       "      <td>385114825a85d6878e7a0978f9ba5546</td>\n",
       "    </tr>\n",
       "    <tr>\n",
       "      <th>4</th>\n",
       "      <td>ff230d487a7139b65f33b54a4cbd2d9e</td>\n",
       "      <td>20170106</td>\n",
       "      <td>0</td>\n",
       "      <td>56</td>\n",
       "      <td>35</td>\n",
       "      <td>Comedy</td>\n",
       "      <td>vod</td>\n",
       "      <td>Movies</td>\n",
       "      <td>1</td>\n",
       "      <td>1</td>\n",
       "      <td>1</td>\n",
       "      <td>368a480ec0ae105aee8320dd93483e39</td>\n",
       "    </tr>\n",
       "  </tbody>\n",
       "</table>\n",
       "</div>"
      ],
      "text/plain": [
       "                             UserId      Date  Minute_Of_Day  Second  State  \\\n",
       "0  0280dfdd112732a3ac12b12dc770b7af  20170106              0       8     35   \n",
       "1  435d41ae019cb8db785483793859c9a8  20170106              0      28     35   \n",
       "2  1faf0ce0b98e02e1568702f516f01a78  20170106              0      36     35   \n",
       "3  3ec691b9d2b5d53ef965fe59b1900b30  20170106              0      48     35   \n",
       "4  ff230d487a7139b65f33b54a4cbd2d9e  20170106              0      56     35   \n",
       "\n",
       "       Genre Category ProgramType  Country  Device  OS  \\\n",
       "0   Romance      vod       Movies        1       1   2   \n",
       "1     Anime      vod     TV Shows        1       1   1   \n",
       "2     Drama      vod     TV Shows        1       1   1   \n",
       "3     Drama      vod     TV Shows        1       2   2   \n",
       "4    Comedy      vod       Movies        1       1   1   \n",
       "\n",
       "                            VideoId  \n",
       "0  36a27b379622f342ec87f9aafadb8f94  \n",
       "1  a4d9b88c7ed63d723c70b358a857719c  \n",
       "2  806660cb47633263a24bbc53238a9a53  \n",
       "3  385114825a85d6878e7a0978f9ba5546  \n",
       "4  368a480ec0ae105aee8320dd93483e39  "
      ]
     },
     "execution_count": 73,
     "metadata": {},
     "output_type": "execute_result"
    }
   ],
   "source": [
    "df6.head()"
   ]
  },
  {
   "cell_type": "code",
   "execution_count": null,
   "metadata": {},
   "outputs": [],
   "source": []
  },
  {
   "cell_type": "code",
   "execution_count": 74,
   "metadata": {},
   "outputs": [
    {
     "name": "stdout",
     "output_type": "stream",
     "text": [
      "<class 'pandas.core.frame.DataFrame'>\n",
      "RangeIndex: 2716093 entries, 0 to 2716092\n",
      "Data columns (total 8 columns):\n",
      "UserId           object\n",
      "Date             int64\n",
      "Minute_Of_Day    int64\n",
      "Second           int64\n",
      "State            int64\n",
      "Country          int64\n",
      "Device           int64\n",
      "OS               int64\n",
      "dtypes: int64(7), object(1)\n",
      "memory usage: 165.8+ MB\n",
      "<class 'pandas.core.frame.DataFrame'>\n",
      "RangeIndex: 326684 entries, 0 to 326683\n",
      "Data columns (total 8 columns):\n",
      "UserId           326684 non-null object\n",
      "Date             326684 non-null int64\n",
      "Minute_Of_Day    326684 non-null int64\n",
      "Second           326684 non-null int64\n",
      "State            326684 non-null int64\n",
      "Country          326684 non-null int64\n",
      "Device           326684 non-null int64\n",
      "OS               326684 non-null int64\n",
      "dtypes: int64(7), object(1)\n",
      "memory usage: 19.9+ MB\n",
      "<class 'pandas.core.frame.DataFrame'>\n",
      "RangeIndex: 329579 entries, 0 to 329578\n",
      "Data columns (total 9 columns):\n",
      "UserId           329579 non-null object\n",
      "Date             329579 non-null int64\n",
      "Minute_Of_Day    329579 non-null int64\n",
      "Second           329579 non-null int64\n",
      "State            329579 non-null int64\n",
      "Country          329579 non-null int64\n",
      "Device           329579 non-null int64\n",
      "OS               329579 non-null int64\n",
      "Status           329579 non-null object\n",
      "dtypes: int64(7), object(2)\n",
      "memory usage: 22.6+ MB\n",
      "<class 'pandas.core.frame.DataFrame'>\n",
      "RangeIndex: 495850 entries, 0 to 495849\n",
      "Data columns (total 8 columns):\n",
      "UserId           495850 non-null object\n",
      "Date             495850 non-null int64\n",
      "Minute_Of_Day    495850 non-null int64\n",
      "Second           495850 non-null int64\n",
      "State            495850 non-null int64\n",
      "Country          495850 non-null int64\n",
      "Device           495850 non-null int64\n",
      "OS               495850 non-null int64\n",
      "dtypes: int64(7), object(1)\n",
      "memory usage: 30.3+ MB\n",
      "<class 'pandas.core.frame.DataFrame'>\n",
      "RangeIndex: 3695451 entries, 0 to 3695450\n",
      "Data columns (total 12 columns):\n",
      "UserId           object\n",
      "Date             int64\n",
      "Minute_Of_Day    int64\n",
      "Second           int64\n",
      "State            int64\n",
      "Genre            object\n",
      "Category         object\n",
      "ProgramType      object\n",
      "Country          int64\n",
      "Device           int64\n",
      "OS               int64\n",
      "VideoId          object\n",
      "dtypes: int64(7), object(5)\n",
      "memory usage: 338.3+ MB\n",
      "<class 'pandas.core.frame.DataFrame'>\n",
      "RangeIndex: 1796525 entries, 0 to 1796524\n",
      "Data columns (total 12 columns):\n",
      "UserId           object\n",
      "Date             int64\n",
      "Minute_Of_Day    int64\n",
      "Second           int64\n",
      "State            int64\n",
      "Genre            object\n",
      "Category         object\n",
      "ProgramType      object\n",
      "Country          int64\n",
      "Device           int64\n",
      "OS               int64\n",
      "VideoId          object\n",
      "dtypes: int64(7), object(5)\n",
      "memory usage: 164.5+ MB\n"
     ]
    }
   ],
   "source": [
    "df1.info()\n",
    "df2.info()\n",
    "df3.info()\n",
    "df4.info()\n",
    "df5.info()\n",
    "df6.info()"
   ]
  },
  {
   "cell_type": "code",
   "execution_count": 75,
   "metadata": {},
   "outputs": [
    {
     "data": {
      "text/plain": [
       "(326684, 8)"
      ]
     },
     "execution_count": 75,
     "metadata": {},
     "output_type": "execute_result"
    }
   ],
   "source": [
    "df2.shape              ## AppUninstalled df"
   ]
  },
  {
   "cell_type": "code",
   "execution_count": 76,
   "metadata": {},
   "outputs": [
    {
     "name": "stdout",
     "output_type": "stream",
     "text": [
      "<class 'pandas.core.frame.DataFrame'>\n",
      "RangeIndex: 326684 entries, 0 to 326683\n",
      "Data columns (total 8 columns):\n",
      "UserId           326684 non-null object\n",
      "Date             326684 non-null int64\n",
      "Minute_Of_Day    326684 non-null int64\n",
      "Second           326684 non-null int64\n",
      "State            326684 non-null int64\n",
      "Country          326684 non-null int64\n",
      "Device           326684 non-null int64\n",
      "OS               326684 non-null int64\n",
      "dtypes: int64(7), object(1)\n",
      "memory usage: 19.9+ MB\n"
     ]
    }
   ],
   "source": [
    "df2.info()"
   ]
  },
  {
   "cell_type": "code",
   "execution_count": 77,
   "metadata": {},
   "outputs": [
    {
     "data": {
      "text/html": [
       "<div>\n",
       "<style scoped>\n",
       "    .dataframe tbody tr th:only-of-type {\n",
       "        vertical-align: middle;\n",
       "    }\n",
       "\n",
       "    .dataframe tbody tr th {\n",
       "        vertical-align: top;\n",
       "    }\n",
       "\n",
       "    .dataframe thead th {\n",
       "        text-align: right;\n",
       "    }\n",
       "</style>\n",
       "<table border=\"1\" class=\"dataframe\">\n",
       "  <thead>\n",
       "    <tr style=\"text-align: right;\">\n",
       "      <th></th>\n",
       "      <th>UserId</th>\n",
       "      <th>Date</th>\n",
       "      <th>Minute_Of_Day</th>\n",
       "      <th>Second</th>\n",
       "      <th>State</th>\n",
       "      <th>Country</th>\n",
       "      <th>Device</th>\n",
       "      <th>OS</th>\n",
       "    </tr>\n",
       "  </thead>\n",
       "  <tbody>\n",
       "    <tr>\n",
       "      <th>0</th>\n",
       "      <td>0d5f4cc176a4e1c648a9b9b5dbe21d69</td>\n",
       "      <td>20170106</td>\n",
       "      <td>0</td>\n",
       "      <td>0</td>\n",
       "      <td>47</td>\n",
       "      <td>1</td>\n",
       "      <td>1</td>\n",
       "      <td>1</td>\n",
       "    </tr>\n",
       "    <tr>\n",
       "      <th>1</th>\n",
       "      <td>807018f66aba113be576eb8afa4ea4b6</td>\n",
       "      <td>20170106</td>\n",
       "      <td>0</td>\n",
       "      <td>0</td>\n",
       "      <td>6</td>\n",
       "      <td>1</td>\n",
       "      <td>1</td>\n",
       "      <td>1</td>\n",
       "    </tr>\n",
       "    <tr>\n",
       "      <th>2</th>\n",
       "      <td>763e66e04918d8b8a7e69a778f5a742a</td>\n",
       "      <td>20170106</td>\n",
       "      <td>1</td>\n",
       "      <td>0</td>\n",
       "      <td>41</td>\n",
       "      <td>1</td>\n",
       "      <td>1</td>\n",
       "      <td>1</td>\n",
       "    </tr>\n",
       "    <tr>\n",
       "      <th>3</th>\n",
       "      <td>4ee1ed456fa04fc42168a9787b54b549</td>\n",
       "      <td>20170106</td>\n",
       "      <td>1</td>\n",
       "      <td>0</td>\n",
       "      <td>37</td>\n",
       "      <td>1</td>\n",
       "      <td>1</td>\n",
       "      <td>1</td>\n",
       "    </tr>\n",
       "    <tr>\n",
       "      <th>4</th>\n",
       "      <td>253e758a5557f9de890e814d901f6906</td>\n",
       "      <td>20170106</td>\n",
       "      <td>6</td>\n",
       "      <td>0</td>\n",
       "      <td>46</td>\n",
       "      <td>40</td>\n",
       "      <td>1</td>\n",
       "      <td>1</td>\n",
       "    </tr>\n",
       "  </tbody>\n",
       "</table>\n",
       "</div>"
      ],
      "text/plain": [
       "                             UserId      Date  Minute_Of_Day  Second  State  \\\n",
       "0  0d5f4cc176a4e1c648a9b9b5dbe21d69  20170106              0       0     47   \n",
       "1  807018f66aba113be576eb8afa4ea4b6  20170106              0       0      6   \n",
       "2  763e66e04918d8b8a7e69a778f5a742a  20170106              1       0     41   \n",
       "3  4ee1ed456fa04fc42168a9787b54b549  20170106              1       0     37   \n",
       "4  253e758a5557f9de890e814d901f6906  20170106              6       0     46   \n",
       "\n",
       "   Country  Device  OS  \n",
       "0        1       1   1  \n",
       "1        1       1   1  \n",
       "2        1       1   1  \n",
       "3        1       1   1  \n",
       "4       40       1   1  "
      ]
     },
     "execution_count": 77,
     "metadata": {},
     "output_type": "execute_result"
    }
   ],
   "source": [
    "df2.head()"
   ]
  },
  {
   "cell_type": "code",
   "execution_count": 78,
   "metadata": {},
   "outputs": [
    {
     "data": {
      "text/html": [
       "<div>\n",
       "<style scoped>\n",
       "    .dataframe tbody tr th:only-of-type {\n",
       "        vertical-align: middle;\n",
       "    }\n",
       "\n",
       "    .dataframe tbody tr th {\n",
       "        vertical-align: top;\n",
       "    }\n",
       "\n",
       "    .dataframe thead th {\n",
       "        text-align: right;\n",
       "    }\n",
       "</style>\n",
       "<table border=\"1\" class=\"dataframe\">\n",
       "  <thead>\n",
       "    <tr style=\"text-align: right;\">\n",
       "      <th></th>\n",
       "      <th>Date</th>\n",
       "      <th>Minute_Of_Day</th>\n",
       "      <th>Second</th>\n",
       "      <th>State</th>\n",
       "      <th>Country</th>\n",
       "      <th>Device</th>\n",
       "      <th>OS</th>\n",
       "    </tr>\n",
       "  </thead>\n",
       "  <tbody>\n",
       "    <tr>\n",
       "      <th>count</th>\n",
       "      <td>3.266840e+05</td>\n",
       "      <td>326684.000000</td>\n",
       "      <td>326684.0</td>\n",
       "      <td>326684.000000</td>\n",
       "      <td>326684.000000</td>\n",
       "      <td>326684.000000</td>\n",
       "      <td>326684.000000</td>\n",
       "    </tr>\n",
       "    <tr>\n",
       "      <th>mean</th>\n",
       "      <td>2.017035e+07</td>\n",
       "      <td>357.310704</td>\n",
       "      <td>0.0</td>\n",
       "      <td>41.461327</td>\n",
       "      <td>40.816655</td>\n",
       "      <td>1.044768</td>\n",
       "      <td>1.040675</td>\n",
       "    </tr>\n",
       "    <tr>\n",
       "      <th>std</th>\n",
       "      <td>1.648711e+02</td>\n",
       "      <td>401.987829</td>\n",
       "      <td>0.0</td>\n",
       "      <td>37.381092</td>\n",
       "      <td>78.878149</td>\n",
       "      <td>0.232493</td>\n",
       "      <td>0.217172</td>\n",
       "    </tr>\n",
       "    <tr>\n",
       "      <th>min</th>\n",
       "      <td>2.017011e+07</td>\n",
       "      <td>0.000000</td>\n",
       "      <td>0.0</td>\n",
       "      <td>0.000000</td>\n",
       "      <td>0.000000</td>\n",
       "      <td>0.000000</td>\n",
       "      <td>0.000000</td>\n",
       "    </tr>\n",
       "    <tr>\n",
       "      <th>25%</th>\n",
       "      <td>2.017021e+07</td>\n",
       "      <td>138.000000</td>\n",
       "      <td>0.0</td>\n",
       "      <td>33.000000</td>\n",
       "      <td>1.000000</td>\n",
       "      <td>1.000000</td>\n",
       "      <td>1.000000</td>\n",
       "    </tr>\n",
       "    <tr>\n",
       "      <th>50%</th>\n",
       "      <td>2.017040e+07</td>\n",
       "      <td>157.000000</td>\n",
       "      <td>0.0</td>\n",
       "      <td>35.000000</td>\n",
       "      <td>1.000000</td>\n",
       "      <td>1.000000</td>\n",
       "      <td>1.000000</td>\n",
       "    </tr>\n",
       "    <tr>\n",
       "      <th>75%</th>\n",
       "      <td>2.017051e+07</td>\n",
       "      <td>178.000000</td>\n",
       "      <td>0.0</td>\n",
       "      <td>43.000000</td>\n",
       "      <td>40.000000</td>\n",
       "      <td>1.000000</td>\n",
       "      <td>1.000000</td>\n",
       "    </tr>\n",
       "    <tr>\n",
       "      <th>max</th>\n",
       "      <td>2.017061e+07</td>\n",
       "      <td>1439.000000</td>\n",
       "      <td>0.0</td>\n",
       "      <td>252.000000</td>\n",
       "      <td>255.000000</td>\n",
       "      <td>3.000000</td>\n",
       "      <td>2.000000</td>\n",
       "    </tr>\n",
       "  </tbody>\n",
       "</table>\n",
       "</div>"
      ],
      "text/plain": [
       "               Date  Minute_Of_Day    Second          State        Country  \\\n",
       "count  3.266840e+05  326684.000000  326684.0  326684.000000  326684.000000   \n",
       "mean   2.017035e+07     357.310704       0.0      41.461327      40.816655   \n",
       "std    1.648711e+02     401.987829       0.0      37.381092      78.878149   \n",
       "min    2.017011e+07       0.000000       0.0       0.000000       0.000000   \n",
       "25%    2.017021e+07     138.000000       0.0      33.000000       1.000000   \n",
       "50%    2.017040e+07     157.000000       0.0      35.000000       1.000000   \n",
       "75%    2.017051e+07     178.000000       0.0      43.000000      40.000000   \n",
       "max    2.017061e+07    1439.000000       0.0     252.000000     255.000000   \n",
       "\n",
       "              Device             OS  \n",
       "count  326684.000000  326684.000000  \n",
       "mean        1.044768       1.040675  \n",
       "std         0.232493       0.217172  \n",
       "min         0.000000       0.000000  \n",
       "25%         1.000000       1.000000  \n",
       "50%         1.000000       1.000000  \n",
       "75%         1.000000       1.000000  \n",
       "max         3.000000       2.000000  "
      ]
     },
     "execution_count": 78,
     "metadata": {},
     "output_type": "execute_result"
    }
   ],
   "source": [
    "df2.describe()"
   ]
  },
  {
   "cell_type": "code",
   "execution_count": 79,
   "metadata": {},
   "outputs": [],
   "source": []
  },
  {
   "cell_type": "code",
   "execution_count": 80,
   "metadata": {},
   "outputs": [],
   "source": [
    "df2['TimeStamp']= df2[\"Date\"].astype(str)+\" \"+(df2['Minute_Of_Day']//60).astype(str) +\":\"+ (df2['Minute_Of_Day']%60).astype(str)+ \":\"+df2[\"Second\"].astype(str)"
   ]
  },
  {
   "cell_type": "code",
   "execution_count": 81,
   "metadata": {},
   "outputs": [
    {
     "name": "stdout",
     "output_type": "stream",
     "text": [
      "0        2017-01-06 00:00:00\n",
      "1        2017-01-06 00:00:00\n",
      "2        2017-01-06 00:01:00\n",
      "3        2017-01-06 00:01:00\n",
      "4        2017-01-06 00:06:00\n",
      "5        2017-01-06 00:06:00\n",
      "6        2017-01-06 00:11:00\n",
      "7        2017-01-06 00:16:00\n",
      "8        2017-01-06 00:20:00\n",
      "9        2017-01-06 00:21:00\n",
      "10       2017-01-06 00:25:00\n",
      "11       2017-01-06 00:25:00\n",
      "12       2017-01-06 00:26:00\n",
      "13       2017-01-06 00:26:00\n",
      "14       2017-01-06 00:26:00\n",
      "15       2017-01-06 00:31:00\n",
      "16       2017-01-06 00:31:00\n",
      "17       2017-01-06 00:32:00\n",
      "18       2017-01-06 00:32:00\n",
      "19       2017-01-06 00:36:00\n",
      "20       2017-01-06 00:36:00\n",
      "21       2017-01-06 00:40:00\n",
      "22       2017-01-06 00:41:00\n",
      "23       2017-01-06 00:51:00\n",
      "24       2017-01-06 00:56:00\n",
      "25       2017-01-06 00:56:00\n",
      "26       2017-01-06 01:10:00\n",
      "27       2017-01-06 01:16:00\n",
      "28       2017-01-06 01:25:00\n",
      "29       2017-01-06 01:26:00\n",
      "                 ...        \n",
      "326654   2017-06-12 20:50:00\n",
      "326655   2017-06-12 20:50:00\n",
      "326656   2017-06-12 20:50:00\n",
      "326657   2017-06-12 20:50:00\n",
      "326658   2017-06-12 20:50:00\n",
      "326659   2017-06-12 20:50:00\n",
      "326660   2017-06-12 20:50:00\n",
      "326661   2017-06-12 20:50:00\n",
      "326662   2017-06-12 20:50:00\n",
      "326663   2017-06-12 21:16:00\n",
      "326664   2017-06-12 21:20:00\n",
      "326665   2017-06-12 21:20:00\n",
      "326666   2017-06-12 21:31:00\n",
      "326667   2017-06-12 21:40:00\n",
      "326668   2017-06-12 21:46:00\n",
      "326669   2017-06-12 21:50:00\n",
      "326670   2017-06-12 21:55:00\n",
      "326671   2017-06-12 21:55:00\n",
      "326672   2017-06-12 22:01:00\n",
      "326673   2017-06-12 22:25:00\n",
      "326674   2017-06-12 22:25:00\n",
      "326675   2017-06-12 22:35:00\n",
      "326676   2017-06-12 22:40:00\n",
      "326677   2017-06-12 22:50:00\n",
      "326678   2017-06-12 22:55:00\n",
      "326679   2017-06-12 22:56:00\n",
      "326680   2017-06-12 23:10:00\n",
      "326681   2017-06-12 23:15:00\n",
      "326682   2017-06-12 23:40:00\n",
      "326683   2017-06-12 23:50:00\n",
      "Name: TimeStamp, Length: 326684, dtype: datetime64[ns]\n"
     ]
    }
   ],
   "source": [
    "df2['TimeStamp']=pd.to_datetime(df2[\"TimeStamp\"],format=\"%Y%m%d %H:%M:%S\")\n",
    "print (df2[\"TimeStamp\"])"
   ]
  },
  {
   "cell_type": "code",
   "execution_count": 82,
   "metadata": {},
   "outputs": [
    {
     "data": {
      "text/plain": [
       "93d087d8b7df56f94b963367c640d557    41\n",
       "64baef3964258bdead9ed9e4a1df84dc    31\n",
       "ebaed4942c8e92e124afbad8720e7021    20\n",
       "00777fb8db3ca4b63736934f698d905e    19\n",
       "931edc94a53bddd1ad54759242b6c19c    18\n",
       "0b445f6734eefd6aa64f6105483a125a    15\n",
       "440c2f12c55eb7c7820c2037418f90bd    15\n",
       "ef3d7377c10cfe597514c73add1b30dc    15\n",
       "2da4c29fb71b621cda36869438fc26a0    15\n",
       "da5c3eab416cae91ff0e021e645f7306    15\n",
       "e7b7fd77552426bb8b261f8ab40b5fc9    14\n",
       "c52d61fe763740431a2cc570f5f021b5    13\n",
       "7001bac626aa56d8e3484cf31df73d33    12\n",
       "217988f3d36598b8e3ac322bc843cff5    11\n",
       "508ceae32bea973932d9763692428ba7    11\n",
       "5846121f142914dbc7a4ca3febcc39d1    11\n",
       "aec04d9d26aff5efef5bb216a99c623d    11\n",
       "6eb0f96a70ad71988410fff1f6e218bd    11\n",
       "e9e0f439053efa5267bee719721e2b63    11\n",
       "5647748313f30f1066ff7d0b9924fa3a    10\n",
       "39e952b8086283a711c5d677dafd92bb    10\n",
       "656c9f94f6313c31458a37d1a45d513f    10\n",
       "446078520189123d49b2372d72382f1d     9\n",
       "6ee65997f29ce0f4a09885a2cb5437ec     9\n",
       "fb1faaf0149c25badda54ca916163a11     9\n",
       "7f4dbc849f15c79036364898e756435c     9\n",
       "711f16530d4ddaab719464324256c4e6     9\n",
       "d12b1c4f5d1751c42537c721adb3b856     9\n",
       "5672d47e77bc8bbebbc360633e70808c     9\n",
       "2c04ce0ddd86c4d93aca01452f4abea0     9\n",
       "                                    ..\n",
       "5773c131c5a78def17abb7b64fd0bf0a     1\n",
       "034a44f133cee53f54c9f7528d1b8330     1\n",
       "f58d6841e27059559047131f319a37bb     1\n",
       "a7b363bb7b815c52f7caced2e5cf77ea     1\n",
       "8b7bf0ea673a8b30dac70cb8d242e59c     1\n",
       "28f32ccf21eb6b96d7bf3d0248bc054f     1\n",
       "f1acd17de52c667d6b78a40f09fe8587     1\n",
       "024384dfc252e260373eb4a672749ae1     1\n",
       "2cf461ef3501043d3616b8c57dcb6633     1\n",
       "37eac3dd4c08d4c04402c59b31383e5a     1\n",
       "71e1c44ff919364981995542e4ab5ad5     1\n",
       "7087e1bbff6da08ec210f24393b60d11     1\n",
       "27ffa1d1ada02293af9ed31fa1f35b14     1\n",
       "998b2f9cae691e718024814c9fe4162c     1\n",
       "fac0ff20b6cf410149595262a98a4142     1\n",
       "e2013f115b5ea04b1ca2d95ed7760e55     1\n",
       "187ae2e1178acc62cd544b5d8371f5cb     1\n",
       "468e3d25d96b7b5fed7168b1642aeeb5     1\n",
       "43653521b144f7e15c29e799f0459948     1\n",
       "b09d97bfe846fe76c8c42215871f00f0     1\n",
       "fcd645007ad0e7eac98326dd9ae33f31     1\n",
       "a137a7cf3cbad8115b4f627592b8496a     1\n",
       "8f01820b1ae21e4ef4c620dcab04e631     1\n",
       "8eef7b34c238aa4ebe112f91dc65a650     1\n",
       "348addd64cb80bb644377cd28e14556e     1\n",
       "5308a3c259410ea3b19834ad91a9d564     1\n",
       "8729aa13d68e44817d0e792f4aae619e     1\n",
       "f66cd3826d9c36c2734784d04f7b6d39     1\n",
       "f769965e0859f64e0763b18580e06ede     1\n",
       "3c28e5b0ebf5df3573bd325afd108cb6     1\n",
       "Name: UserId, Length: 307803, dtype: int64"
      ]
     },
     "execution_count": 82,
     "metadata": {},
     "output_type": "execute_result"
    }
   ],
   "source": [
    "df2[\"UserId\"].value_counts()"
   ]
  },
  {
   "cell_type": "code",
   "execution_count": 83,
   "metadata": {},
   "outputs": [
    {
     "data": {
      "text/plain": [
       "20170122    3288\n",
       "20170605    3265\n",
       "20170607    3160\n",
       "20170522    3065\n",
       "20170124    3059\n",
       "20170123    2992\n",
       "20170425    2975\n",
       "20170201    2931\n",
       "20170504    2925\n",
       "20170507    2911\n",
       "20170121    2878\n",
       "20170119    2854\n",
       "20170130    2832\n",
       "20170502    2805\n",
       "20170125    2802\n",
       "20170127    2789\n",
       "20170508    2752\n",
       "20170120    2736\n",
       "20170506    2725\n",
       "20170126    2724\n",
       "20170128    2709\n",
       "20170118    2706\n",
       "20170430    2684\n",
       "20170131    2670\n",
       "20170115    2665\n",
       "20170603    2651\n",
       "20170428    2638\n",
       "20170129    2626\n",
       "20170423    2625\n",
       "20170509    2614\n",
       "            ... \n",
       "20170220    1409\n",
       "20170317    1406\n",
       "20170310    1397\n",
       "20170314    1395\n",
       "20170305    1392\n",
       "20170330    1387\n",
       "20170303    1385\n",
       "20170311    1381\n",
       "20170227    1376\n",
       "20170319    1373\n",
       "20170404    1372\n",
       "20170331    1370\n",
       "20170402    1370\n",
       "20170320    1367\n",
       "20170316    1367\n",
       "20170308    1362\n",
       "20170307    1352\n",
       "20170318    1343\n",
       "20170306    1342\n",
       "20170401    1322\n",
       "20170309    1305\n",
       "20170228    1293\n",
       "20170221    1287\n",
       "20170223    1279\n",
       "20170321    1234\n",
       "20170302    1207\n",
       "20170323    1202\n",
       "20170301    1199\n",
       "20170222    1189\n",
       "20170304    1075\n",
       "Name: Date, Length: 158, dtype: int64"
      ]
     },
     "execution_count": 83,
     "metadata": {},
     "output_type": "execute_result"
    }
   ],
   "source": [
    "df2[\"Date\"].value_counts()"
   ]
  },
  {
   "cell_type": "code",
   "execution_count": 84,
   "metadata": {},
   "outputs": [
    {
     "data": {
      "text/plain": [
       "178     9922\n",
       "132     9440\n",
       "174     9315\n",
       "142     9090\n",
       "124     8141\n",
       "151     7583\n",
       "131     7176\n",
       "123     7030\n",
       "1200    6651\n",
       "155     6631\n",
       "159     6474\n",
       "141     6458\n",
       "145     6426\n",
       "121     6132\n",
       "138     5832\n",
       "150     5654\n",
       "153     5477\n",
       "122     5419\n",
       "163     5226\n",
       "136     5060\n",
       "139     5038\n",
       "161     4918\n",
       "156     4805\n",
       "600     4766\n",
       "157     4499\n",
       "172     4386\n",
       "176     4370\n",
       "166     4336\n",
       "164     4187\n",
       "173     4177\n",
       "        ... \n",
       "859        1\n",
       "1299       1\n",
       "899        1\n",
       "1029       1\n",
       "929        1\n",
       "964        1\n",
       "794        1\n",
       "959        1\n",
       "14         1\n",
       "734        1\n",
       "699        1\n",
       "954        1\n",
       "1249       1\n",
       "1204       1\n",
       "422        1\n",
       "1189       1\n",
       "668        1\n",
       "1149       1\n",
       "658        1\n",
       "49         1\n",
       "306        1\n",
       "390        1\n",
       "54         1\n",
       "389        1\n",
       "210        1\n",
       "643        1\n",
       "1004       1\n",
       "749        1\n",
       "894        1\n",
       "1279       1\n",
       "Name: Minute_Of_Day, Length: 1140, dtype: int64"
      ]
     },
     "execution_count": 84,
     "metadata": {},
     "output_type": "execute_result"
    }
   ],
   "source": [
    "df2[\"Minute_Of_Day\"].value_counts()"
   ]
  },
  {
   "cell_type": "code",
   "execution_count": 85,
   "metadata": {},
   "outputs": [
    {
     "data": {
      "text/plain": [
       "0    326684\n",
       "Name: Second, dtype: int64"
      ]
     },
     "execution_count": 85,
     "metadata": {},
     "output_type": "execute_result"
    }
   ],
   "source": [
    "df2[\"Second\"].value_counts()"
   ]
  },
  {
   "cell_type": "code",
   "execution_count": 86,
   "metadata": {},
   "outputs": [
    {
     "data": {
      "text/plain": [
       "35     81285\n",
       "0      37630\n",
       "40     25018\n",
       "57     24382\n",
       "160    24070\n",
       "36     22873\n",
       "33     20254\n",
       "46     15173\n",
       "14      8383\n",
       "38      7839\n",
       "39      5733\n",
       "43      5355\n",
       "23      5228\n",
       "31      5000\n",
       "2       4963\n",
       "49      2991\n",
       "37      2985\n",
       "6       2683\n",
       "48      2284\n",
       "12      2215\n",
       "15      2098\n",
       "47      2015\n",
       "1       1990\n",
       "7       1883\n",
       "45      1807\n",
       "41      1510\n",
       "50      1046\n",
       "42       871\n",
       "5        687\n",
       "24       566\n",
       "       ...  \n",
       "112        7\n",
       "159        7\n",
       "117        7\n",
       "74         7\n",
       "136        7\n",
       "137        7\n",
       "147        6\n",
       "85         6\n",
       "60         5\n",
       "19         4\n",
       "139        4\n",
       "61         4\n",
       "116        4\n",
       "76         3\n",
       "149        2\n",
       "144        2\n",
       "152        2\n",
       "64         2\n",
       "30         2\n",
       "138        2\n",
       "83         2\n",
       "101        2\n",
       "132        2\n",
       "118        2\n",
       "79         1\n",
       "143        1\n",
       "140        1\n",
       "66         1\n",
       "145        1\n",
       "127        1\n",
       "Name: State, Length: 111, dtype: int64"
      ]
     },
     "execution_count": 86,
     "metadata": {},
     "output_type": "execute_result"
    }
   ],
   "source": [
    "df2[\"State\"].value_counts()"
   ]
  },
  {
   "cell_type": "code",
   "execution_count": 87,
   "metadata": {},
   "outputs": [
    {
     "data": {
      "text/plain": [
       "1      196884\n",
       "40      88374\n",
       "255     37425\n",
       "14       1950\n",
       "2         737\n",
       "30        229\n",
       "0         195\n",
       "12        153\n",
       "47        137\n",
       "15        106\n",
       "7          72\n",
       "23         70\n",
       "10         51\n",
       "5          50\n",
       "46         41\n",
       "11         28\n",
       "24         21\n",
       "21         20\n",
       "73         16\n",
       "34         15\n",
       "32         14\n",
       "16         11\n",
       "57          9\n",
       "54          9\n",
       "39          7\n",
       "74          6\n",
       "77          6\n",
       "86          6\n",
       "6           5\n",
       "20          4\n",
       "65          3\n",
       "29          3\n",
       "42          2\n",
       "45          2\n",
       "135         2\n",
       "25          2\n",
       "4           1\n",
       "179         1\n",
       "8           1\n",
       "169         1\n",
       "27          1\n",
       "31          1\n",
       "138         1\n",
       "180         1\n",
       "44          1\n",
       "48          1\n",
       "52          1\n",
       "55          1\n",
       "61          1\n",
       "72          1\n",
       "75          1\n",
       "115         1\n",
       "118         1\n",
       "134         1\n",
       "36          1\n",
       "Name: Country, dtype: int64"
      ]
     },
     "execution_count": 87,
     "metadata": {},
     "output_type": "execute_result"
    }
   ],
   "source": [
    "df2[\"Country\"].value_counts()"
   ]
  },
  {
   "cell_type": "code",
   "execution_count": 88,
   "metadata": {},
   "outputs": [
    {
     "data": {
      "text/plain": [
       "1    308815\n",
       "2     16025\n",
       "0      1696\n",
       "3       148\n",
       "Name: Device, dtype: int64"
      ]
     },
     "execution_count": 88,
     "metadata": {},
     "output_type": "execute_result"
    }
   ],
   "source": [
    "df2[\"Device\"].value_counts()"
   ]
  },
  {
   "cell_type": "code",
   "execution_count": 89,
   "metadata": {},
   "outputs": [
    {
     "data": {
      "text/plain": [
       "1    310736\n",
       "2     14618\n",
       "0      1330\n",
       "Name: OS, dtype: int64"
      ]
     },
     "execution_count": 89,
     "metadata": {},
     "output_type": "execute_result"
    }
   ],
   "source": [
    "df2[\"OS\"].value_counts()"
   ]
  },
  {
   "cell_type": "code",
   "execution_count": 90,
   "metadata": {},
   "outputs": [
    {
     "data": {
      "text/plain": [
       "UserId                   object\n",
       "Date                      int64\n",
       "Minute_Of_Day             int64\n",
       "Second                    int64\n",
       "State                     int64\n",
       "Country                   int64\n",
       "Device                    int64\n",
       "OS                        int64\n",
       "TimeStamp        datetime64[ns]\n",
       "dtype: object"
      ]
     },
     "execution_count": 90,
     "metadata": {},
     "output_type": "execute_result"
    }
   ],
   "source": [
    "df2.dtypes"
   ]
  },
  {
   "cell_type": "code",
   "execution_count": 91,
   "metadata": {},
   "outputs": [],
   "source": [
    "# Check for 0s in numerical columns"
   ]
  },
  {
   "cell_type": "code",
   "execution_count": 92,
   "metadata": {},
   "outputs": [],
   "source": [
    "numeric_df = df2._get_numeric_data()\n",
    "numeric_df_is_zero = numeric_df.isin([0])"
   ]
  },
  {
   "cell_type": "code",
   "execution_count": 93,
   "metadata": {},
   "outputs": [
    {
     "name": "stdout",
     "output_type": "stream",
     "text": [
      "Date\n",
      "False    326684\n",
      "Name: Date, dtype: int64\n",
      "________________________________\n",
      "Minute_Of_Day\n",
      "False    326612\n",
      "True         72\n",
      "Name: Minute_Of_Day, dtype: int64\n",
      "________________________________\n",
      "Second\n",
      "True    326684\n",
      "Name: Second, dtype: int64\n",
      "________________________________\n",
      "State\n",
      "False    289054\n",
      "True      37630\n",
      "Name: State, dtype: int64\n",
      "________________________________\n",
      "Country\n",
      "False    326489\n",
      "True        195\n",
      "Name: Country, dtype: int64\n",
      "________________________________\n",
      "Device\n",
      "False    324988\n",
      "True       1696\n",
      "Name: Device, dtype: int64\n",
      "________________________________\n",
      "OS\n",
      "False    325354\n",
      "True       1330\n",
      "Name: OS, dtype: int64\n",
      "________________________________\n"
     ]
    }
   ],
   "source": [
    "for column in numeric_df_is_zero.columns:\n",
    "    print(column)\n",
    "    print(numeric_df_is_zero[column].value_counts())\n",
    "    print('________________________________')"
   ]
  },
  {
   "cell_type": "code",
   "execution_count": 94,
   "metadata": {},
   "outputs": [
    {
     "data": {
      "text/html": [
       "<div>\n",
       "<style scoped>\n",
       "    .dataframe tbody tr th:only-of-type {\n",
       "        vertical-align: middle;\n",
       "    }\n",
       "\n",
       "    .dataframe tbody tr th {\n",
       "        vertical-align: top;\n",
       "    }\n",
       "\n",
       "    .dataframe thead th {\n",
       "        text-align: right;\n",
       "    }\n",
       "</style>\n",
       "<table border=\"1\" class=\"dataframe\">\n",
       "  <thead>\n",
       "    <tr style=\"text-align: right;\">\n",
       "      <th></th>\n",
       "      <th>Date</th>\n",
       "      <th>Minute_Of_Day</th>\n",
       "      <th>Second</th>\n",
       "      <th>State</th>\n",
       "      <th>Country</th>\n",
       "      <th>Device</th>\n",
       "      <th>OS</th>\n",
       "    </tr>\n",
       "  </thead>\n",
       "  <tbody>\n",
       "    <tr>\n",
       "      <th>count</th>\n",
       "      <td>3.266840e+05</td>\n",
       "      <td>326684.000000</td>\n",
       "      <td>326684.0</td>\n",
       "      <td>326684.000000</td>\n",
       "      <td>326684.000000</td>\n",
       "      <td>326684.000000</td>\n",
       "      <td>326684.000000</td>\n",
       "    </tr>\n",
       "    <tr>\n",
       "      <th>mean</th>\n",
       "      <td>2.017035e+07</td>\n",
       "      <td>357.310704</td>\n",
       "      <td>0.0</td>\n",
       "      <td>41.461327</td>\n",
       "      <td>40.816655</td>\n",
       "      <td>1.044768</td>\n",
       "      <td>1.040675</td>\n",
       "    </tr>\n",
       "    <tr>\n",
       "      <th>std</th>\n",
       "      <td>1.648711e+02</td>\n",
       "      <td>401.987829</td>\n",
       "      <td>0.0</td>\n",
       "      <td>37.381092</td>\n",
       "      <td>78.878149</td>\n",
       "      <td>0.232493</td>\n",
       "      <td>0.217172</td>\n",
       "    </tr>\n",
       "    <tr>\n",
       "      <th>min</th>\n",
       "      <td>2.017011e+07</td>\n",
       "      <td>0.000000</td>\n",
       "      <td>0.0</td>\n",
       "      <td>0.000000</td>\n",
       "      <td>0.000000</td>\n",
       "      <td>0.000000</td>\n",
       "      <td>0.000000</td>\n",
       "    </tr>\n",
       "    <tr>\n",
       "      <th>25%</th>\n",
       "      <td>2.017021e+07</td>\n",
       "      <td>138.000000</td>\n",
       "      <td>0.0</td>\n",
       "      <td>33.000000</td>\n",
       "      <td>1.000000</td>\n",
       "      <td>1.000000</td>\n",
       "      <td>1.000000</td>\n",
       "    </tr>\n",
       "    <tr>\n",
       "      <th>50%</th>\n",
       "      <td>2.017040e+07</td>\n",
       "      <td>157.000000</td>\n",
       "      <td>0.0</td>\n",
       "      <td>35.000000</td>\n",
       "      <td>1.000000</td>\n",
       "      <td>1.000000</td>\n",
       "      <td>1.000000</td>\n",
       "    </tr>\n",
       "    <tr>\n",
       "      <th>75%</th>\n",
       "      <td>2.017051e+07</td>\n",
       "      <td>178.000000</td>\n",
       "      <td>0.0</td>\n",
       "      <td>43.000000</td>\n",
       "      <td>40.000000</td>\n",
       "      <td>1.000000</td>\n",
       "      <td>1.000000</td>\n",
       "    </tr>\n",
       "    <tr>\n",
       "      <th>max</th>\n",
       "      <td>2.017061e+07</td>\n",
       "      <td>1439.000000</td>\n",
       "      <td>0.0</td>\n",
       "      <td>252.000000</td>\n",
       "      <td>255.000000</td>\n",
       "      <td>3.000000</td>\n",
       "      <td>2.000000</td>\n",
       "    </tr>\n",
       "  </tbody>\n",
       "</table>\n",
       "</div>"
      ],
      "text/plain": [
       "               Date  Minute_Of_Day    Second          State        Country  \\\n",
       "count  3.266840e+05  326684.000000  326684.0  326684.000000  326684.000000   \n",
       "mean   2.017035e+07     357.310704       0.0      41.461327      40.816655   \n",
       "std    1.648711e+02     401.987829       0.0      37.381092      78.878149   \n",
       "min    2.017011e+07       0.000000       0.0       0.000000       0.000000   \n",
       "25%    2.017021e+07     138.000000       0.0      33.000000       1.000000   \n",
       "50%    2.017040e+07     157.000000       0.0      35.000000       1.000000   \n",
       "75%    2.017051e+07     178.000000       0.0      43.000000      40.000000   \n",
       "max    2.017061e+07    1439.000000       0.0     252.000000     255.000000   \n",
       "\n",
       "              Device             OS  \n",
       "count  326684.000000  326684.000000  \n",
       "mean        1.044768       1.040675  \n",
       "std         0.232493       0.217172  \n",
       "min         0.000000       0.000000  \n",
       "25%         1.000000       1.000000  \n",
       "50%         1.000000       1.000000  \n",
       "75%         1.000000       1.000000  \n",
       "max         3.000000       2.000000  "
      ]
     },
     "execution_count": 94,
     "metadata": {},
     "output_type": "execute_result"
    }
   ],
   "source": [
    "df2.describe()"
   ]
  },
  {
   "cell_type": "code",
   "execution_count": 95,
   "metadata": {},
   "outputs": [
    {
     "data": {
      "text/plain": [
       "<matplotlib.axes._subplots.AxesSubplot at 0x195103fa2b0>"
      ]
     },
     "execution_count": 95,
     "metadata": {},
     "output_type": "execute_result"
    },
    {
     "data": {
      "image/png": "[encoded data removed]",
      "text/plain": [
       "<Figure size 432x288 with 1 Axes>"
      ]
     },
     "metadata": {},
     "output_type": "display_data"
    }
   ],
   "source": [
    "df2[\"Device\"].hist(bins = 16, color = \"blue\")"
   ]
  },
  {
   "cell_type": "code",
   "execution_count": 96,
   "metadata": {},
   "outputs": [
    {
     "data": {
      "text/plain": [
       "<matplotlib.axes._subplots.AxesSubplot at 0x194854cf080>"
      ]
     },
     "execution_count": 96,
     "metadata": {},
     "output_type": "execute_result"
    },
    {
     "data": {
      "image/png": "[encoded data removed]",
      "text/plain": [
       "<Figure size 432x288 with 1 Axes>"
      ]
     },
     "metadata": {},
     "output_type": "display_data"
    }
   ],
   "source": [
    "df2[\"OS\"].hist(bins = 16, color = \"blue\")"
   ]
  },
  {
   "cell_type": "code",
   "execution_count": 97,
   "metadata": {},
   "outputs": [
    {
     "data": {
      "text/plain": [
       "<matplotlib.axes._subplots.AxesSubplot at 0x194854acdd8>"
      ]
     },
     "execution_count": 97,
     "metadata": {},
     "output_type": "execute_result"
    },
    {
     "data": {
      "image/png": "[encoded data removed]",
      "text/plain": [
       "<Figure size 432x288 with 1 Axes>"
      ]
     },
     "metadata": {},
     "output_type": "display_data"
    }
   ],
   "source": [
    "df2[\"Country\"].hist(bins = 16, color = \"blue\")"
   ]
  },
  {
   "cell_type": "code",
   "execution_count": 98,
   "metadata": {},
   "outputs": [
    {
     "data": {
      "text/plain": [
       "<matplotlib.axes._subplots.AxesSubplot at 0x194855e6780>"
      ]
     },
     "execution_count": 98,
     "metadata": {},
     "output_type": "execute_result"
    },
    {
     "data": {
      "image/png": "[encoded data removed]",
      "text/plain": [
       "<Figure size 432x288 with 1 Axes>"
      ]
     },
     "metadata": {},
     "output_type": "display_data"
    }
   ],
   "source": [
    "df2[\"State\"].hist(bins = 16, color = \"blue\")"
   ]
  },
  {
   "cell_type": "code",
   "execution_count": 99,
   "metadata": {},
   "outputs": [
    {
     "data": {
      "text/plain": [
       "<matplotlib.axes._subplots.AxesSubplot at 0x1948566b2e8>"
      ]
     },
     "execution_count": 99,
     "metadata": {},
     "output_type": "execute_result"
    },
    {
     "data": {
      "image/png": "[encoded data removed]",
      "text/plain": [
       "<Figure size 432x288 with 1 Axes>"
      ]
     },
     "metadata": {},
     "output_type": "display_data"
    }
   ],
   "source": [
    "df2[\"Minute_Of_Day\"].hist(bins = 16, color = \"blue\")"
   ]
  },
  {
   "cell_type": "code",
   "execution_count": 100,
   "metadata": {},
   "outputs": [
    {
     "data": {
      "text/plain": [
       "<matplotlib.axes._subplots.AxesSubplot at 0x194856dba58>"
      ]
     },
     "execution_count": 100,
     "metadata": {},
     "output_type": "execute_result"
    },
    {
     "data": {
      "image/png": "[encoded data removed]",
      "text/plain": [
       "<Figure size 432x288 with 1 Axes>"
      ]
     },
     "metadata": {},
     "output_type": "display_data"
    }
   ],
   "source": [
    "df2[\"UserId\"].value_counts().nlargest(10).plot(kind = \"bar\")"
   ]
  },
  {
   "cell_type": "code",
   "execution_count": 101,
   "metadata": {},
   "outputs": [
    {
     "data": {
      "text/plain": [
       "<matplotlib.axes._subplots.AxesSubplot at 0x19501fd2f60>"
      ]
     },
     "execution_count": 101,
     "metadata": {},
     "output_type": "execute_result"
    },
    {
     "data": {
      "image/png": "[encoded data removed]",
      "text/plain": [
       "<Figure size 432x288 with 1 Axes>"
      ]
     },
     "metadata": {},
     "output_type": "display_data"
    }
   ],
   "source": [
    "df2[\"UserId\"].value_counts().nlargest(50).plot(kind = \"bar\")"
   ]
  },
  {
   "cell_type": "code",
   "execution_count": 102,
   "metadata": {},
   "outputs": [
    {
     "data": {
      "text/plain": [
       "<matplotlib.axes._subplots.AxesSubplot at 0x19510489240>"
      ]
     },
     "execution_count": 102,
     "metadata": {},
     "output_type": "execute_result"
    },
    {
     "data": {
      "image/png": "[encoded data removed]",
      "text/plain": [
       "<Figure size 432x288 with 1 Axes>"
      ]
     },
     "metadata": {},
     "output_type": "display_data"
    }
   ],
   "source": [
    "df2[\"Device\"].value_counts().plot.pie(autopct=\"%.2f\")"
   ]
  },
  {
   "cell_type": "code",
   "execution_count": 103,
   "metadata": {},
   "outputs": [
    {
     "data": {
      "text/plain": [
       "<matplotlib.axes._subplots.AxesSubplot at 0x195104c7630>"
      ]
     },
     "execution_count": 103,
     "metadata": {},
     "output_type": "execute_result"
    },
    {
     "data": {
      "image/png": "[encoded data removed]",
      "text/plain": [
       "<Figure size 432x288 with 1 Axes>"
      ]
     },
     "metadata": {},
     "output_type": "display_data"
    }
   ],
   "source": [
    "df2[\"Country\"].value_counts().plot.pie(autopct=\"%.2f\")"
   ]
  },
  {
   "cell_type": "code",
   "execution_count": 104,
   "metadata": {},
   "outputs": [
    {
     "data": {
      "text/html": [
       "<div>\n",
       "<style scoped>\n",
       "    .dataframe tbody tr th:only-of-type {\n",
       "        vertical-align: middle;\n",
       "    }\n",
       "\n",
       "    .dataframe tbody tr th {\n",
       "        vertical-align: top;\n",
       "    }\n",
       "\n",
       "    .dataframe thead th {\n",
       "        text-align: right;\n",
       "    }\n",
       "</style>\n",
       "<table border=\"1\" class=\"dataframe\">\n",
       "  <thead>\n",
       "    <tr style=\"text-align: right;\">\n",
       "      <th></th>\n",
       "      <th>Date</th>\n",
       "      <th>Minute_Of_Day</th>\n",
       "      <th>Second</th>\n",
       "      <th>State</th>\n",
       "      <th>Country</th>\n",
       "      <th>Device</th>\n",
       "      <th>OS</th>\n",
       "    </tr>\n",
       "  </thead>\n",
       "  <tbody>\n",
       "    <tr>\n",
       "      <th>Date</th>\n",
       "      <td>1.000000</td>\n",
       "      <td>0.135697</td>\n",
       "      <td>NaN</td>\n",
       "      <td>0.292886</td>\n",
       "      <td>-0.358086</td>\n",
       "      <td>0.002610</td>\n",
       "      <td>0.129017</td>\n",
       "    </tr>\n",
       "    <tr>\n",
       "      <th>Minute_Of_Day</th>\n",
       "      <td>0.135697</td>\n",
       "      <td>1.000000</td>\n",
       "      <td>NaN</td>\n",
       "      <td>0.139466</td>\n",
       "      <td>-0.139869</td>\n",
       "      <td>-0.016532</td>\n",
       "      <td>0.021237</td>\n",
       "    </tr>\n",
       "    <tr>\n",
       "      <th>Second</th>\n",
       "      <td>NaN</td>\n",
       "      <td>NaN</td>\n",
       "      <td>NaN</td>\n",
       "      <td>NaN</td>\n",
       "      <td>NaN</td>\n",
       "      <td>NaN</td>\n",
       "      <td>NaN</td>\n",
       "    </tr>\n",
       "    <tr>\n",
       "      <th>State</th>\n",
       "      <td>0.292886</td>\n",
       "      <td>0.139466</td>\n",
       "      <td>NaN</td>\n",
       "      <td>1.000000</td>\n",
       "      <td>-0.317789</td>\n",
       "      <td>0.012140</td>\n",
       "      <td>0.010918</td>\n",
       "    </tr>\n",
       "    <tr>\n",
       "      <th>Country</th>\n",
       "      <td>-0.358086</td>\n",
       "      <td>-0.139869</td>\n",
       "      <td>NaN</td>\n",
       "      <td>-0.317789</td>\n",
       "      <td>1.000000</td>\n",
       "      <td>0.034285</td>\n",
       "      <td>-0.046338</td>\n",
       "    </tr>\n",
       "    <tr>\n",
       "      <th>Device</th>\n",
       "      <td>0.002610</td>\n",
       "      <td>-0.016532</td>\n",
       "      <td>NaN</td>\n",
       "      <td>0.012140</td>\n",
       "      <td>0.034285</td>\n",
       "      <td>1.000000</td>\n",
       "      <td>0.174793</td>\n",
       "    </tr>\n",
       "    <tr>\n",
       "      <th>OS</th>\n",
       "      <td>0.129017</td>\n",
       "      <td>0.021237</td>\n",
       "      <td>NaN</td>\n",
       "      <td>0.010918</td>\n",
       "      <td>-0.046338</td>\n",
       "      <td>0.174793</td>\n",
       "      <td>1.000000</td>\n",
       "    </tr>\n",
       "  </tbody>\n",
       "</table>\n",
       "</div>"
      ],
      "text/plain": [
       "                   Date  Minute_Of_Day  Second     State   Country    Device  \\\n",
       "Date           1.000000       0.135697     NaN  0.292886 -0.358086  0.002610   \n",
       "Minute_Of_Day  0.135697       1.000000     NaN  0.139466 -0.139869 -0.016532   \n",
       "Second              NaN            NaN     NaN       NaN       NaN       NaN   \n",
       "State          0.292886       0.139466     NaN  1.000000 -0.317789  0.012140   \n",
       "Country       -0.358086      -0.139869     NaN -0.317789  1.000000  0.034285   \n",
       "Device         0.002610      -0.016532     NaN  0.012140  0.034285  1.000000   \n",
       "OS             0.129017       0.021237     NaN  0.010918 -0.046338  0.174793   \n",
       "\n",
       "                     OS  \n",
       "Date           0.129017  \n",
       "Minute_Of_Day  0.021237  \n",
       "Second              NaN  \n",
       "State          0.010918  \n",
       "Country       -0.046338  \n",
       "Device         0.174793  \n",
       "OS             1.000000  "
      ]
     },
     "execution_count": 104,
     "metadata": {},
     "output_type": "execute_result"
    }
   ],
   "source": [
    "corr = df2.corr()\n",
    "corr"
   ]
  },
  {
   "cell_type": "code",
   "execution_count": 105,
   "metadata": {},
   "outputs": [
    {
     "data": {
      "image/png": "[encoded data removed]",
      "text/plain": [
       "<Figure size 936x504 with 2 Axes>"
      ]
     },
     "metadata": {},
     "output_type": "display_data"
    }
   ],
   "source": [
    "sns.set_context(\"notebook\",font_scale = 1.0, rc = {\"lines.linewidth\":2.5})\n",
    "plt.figure(figsize = (13,7))\n",
    "a = sns.heatmap(corr, annot = True, fmt = \".2f\")"
   ]
  },
  {
   "cell_type": "code",
   "execution_count": 111,
   "metadata": {},
   "outputs": [
    {
     "name": "stderr",
     "output_type": "stream",
     "text": [
      "C:\\Users\\Rajesh\\Anaconda3\\lib\\site-packages\\scipy\\stats\\stats.py:1713: FutureWarning: Using a non-tuple sequence for multidimensional indexing is deprecated; use `arr[tuple(seq)]` instead of `arr[seq]`. In the future this will be interpreted as an array index, `arr[np.array(seq)]`, which will result either in an error or a different result.\n",
      "  return np.add.reduce(sorted[indexer] * weights, axis=axis) / sumval\n"
     ]
    },
    {
     "data": {
      "image/png": "[encoded data removed]",
      "text/plain": [
       "<Figure size 360x360 with 1 Axes>"
      ]
     },
     "metadata": {},
     "output_type": "display_data"
    }
   ],
   "source": [
    "g = sns.lmplot(\"Device\",\"OS\",df2)"
   ]
  },
  {
   "cell_type": "code",
   "execution_count": 107,
   "metadata": {},
   "outputs": [
    {
     "name": "stderr",
     "output_type": "stream",
     "text": [
      "C:\\Users\\Rajesh\\Anaconda3\\lib\\site-packages\\scipy\\stats\\stats.py:1713: FutureWarning: Using a non-tuple sequence for multidimensional indexing is deprecated; use `arr[tuple(seq)]` instead of `arr[seq]`. In the future this will be interpreted as an array index, `arr[np.array(seq)]`, which will result either in an error or a different result.\n",
      "  return np.add.reduce(sorted[indexer] * weights, axis=axis) / sumval\n"
     ]
    },
    {
     "data": {
      "image/png": "[encoded data removed]",
      "text/plain": [
       "<Figure size 360x360 with 1 Axes>"
      ]
     },
     "metadata": {},
     "output_type": "display_data"
    }
   ],
   "source": [
    "g = sns.lmplot(\"Device\",\"Country\",df2)"
   ]
  },
  {
   "cell_type": "code",
   "execution_count": 108,
   "metadata": {},
   "outputs": [
    {
     "data": {
      "text/plain": [
       "<matplotlib.collections.PathCollection at 0x195106d3630>"
      ]
     },
     "execution_count": 108,
     "metadata": {},
     "output_type": "execute_result"
    },
    {
     "data": {
      "image/png": "[encoded data removed]",
      "text/plain": [
       "<Figure size 432x288 with 1 Axes>"
      ]
     },
     "metadata": {},
     "output_type": "display_data"
    }
   ],
   "source": [
    "plt.scatter(df2[\"Device\"],df2[\"OS\"])"
   ]
  },
  {
   "cell_type": "code",
   "execution_count": 109,
   "metadata": {},
   "outputs": [
    {
     "data": {
      "text/plain": [
       "['UserId',\n",
       " 'Date',\n",
       " 'Minute_Of_Day',\n",
       " 'Second',\n",
       " 'State',\n",
       " 'Country',\n",
       " 'Device',\n",
       " 'OS',\n",
       " 'TimeStamp']"
      ]
     },
     "execution_count": 109,
     "metadata": {},
     "output_type": "execute_result"
    }
   ],
   "source": [
    "list(df2)"
   ]
  },
  {
   "cell_type": "code",
   "execution_count": 110,
   "metadata": {},
   "outputs": [
    {
     "data": {
      "text/html": [
       "<div>\n",
       "<style scoped>\n",
       "    .dataframe tbody tr th:only-of-type {\n",
       "        vertical-align: middle;\n",
       "    }\n",
       "\n",
       "    .dataframe tbody tr th {\n",
       "        vertical-align: top;\n",
       "    }\n",
       "\n",
       "    .dataframe thead th {\n",
       "        text-align: right;\n",
       "    }\n",
       "</style>\n",
       "<table border=\"1\" class=\"dataframe\">\n",
       "  <thead>\n",
       "    <tr style=\"text-align: right;\">\n",
       "      <th></th>\n",
       "      <th>UserId</th>\n",
       "      <th>Date</th>\n",
       "      <th>Minute_Of_Day</th>\n",
       "      <th>Second</th>\n",
       "      <th>State</th>\n",
       "      <th>Country</th>\n",
       "      <th>Device</th>\n",
       "      <th>OS</th>\n",
       "      <th>TimeStamp</th>\n",
       "    </tr>\n",
       "  </thead>\n",
       "  <tbody>\n",
       "    <tr>\n",
       "      <th>0</th>\n",
       "      <td>0d5f4cc176a4e1c648a9b9b5dbe21d69</td>\n",
       "      <td>20170106</td>\n",
       "      <td>0</td>\n",
       "      <td>0</td>\n",
       "      <td>47</td>\n",
       "      <td>1</td>\n",
       "      <td>1</td>\n",
       "      <td>1</td>\n",
       "      <td>2017-01-06 00:00:00</td>\n",
       "    </tr>\n",
       "    <tr>\n",
       "      <th>1</th>\n",
       "      <td>807018f66aba113be576eb8afa4ea4b6</td>\n",
       "      <td>20170106</td>\n",
       "      <td>0</td>\n",
       "      <td>0</td>\n",
       "      <td>6</td>\n",
       "      <td>1</td>\n",
       "      <td>1</td>\n",
       "      <td>1</td>\n",
       "      <td>2017-01-06 00:00:00</td>\n",
       "    </tr>\n",
       "    <tr>\n",
       "      <th>2</th>\n",
       "      <td>763e66e04918d8b8a7e69a778f5a742a</td>\n",
       "      <td>20170106</td>\n",
       "      <td>1</td>\n",
       "      <td>0</td>\n",
       "      <td>41</td>\n",
       "      <td>1</td>\n",
       "      <td>1</td>\n",
       "      <td>1</td>\n",
       "      <td>2017-01-06 00:01:00</td>\n",
       "    </tr>\n",
       "    <tr>\n",
       "      <th>3</th>\n",
       "      <td>4ee1ed456fa04fc42168a9787b54b549</td>\n",
       "      <td>20170106</td>\n",
       "      <td>1</td>\n",
       "      <td>0</td>\n",
       "      <td>37</td>\n",
       "      <td>1</td>\n",
       "      <td>1</td>\n",
       "      <td>1</td>\n",
       "      <td>2017-01-06 00:01:00</td>\n",
       "    </tr>\n",
       "    <tr>\n",
       "      <th>4</th>\n",
       "      <td>253e758a5557f9de890e814d901f6906</td>\n",
       "      <td>20170106</td>\n",
       "      <td>6</td>\n",
       "      <td>0</td>\n",
       "      <td>46</td>\n",
       "      <td>40</td>\n",
       "      <td>1</td>\n",
       "      <td>1</td>\n",
       "      <td>2017-01-06 00:06:00</td>\n",
       "    </tr>\n",
       "  </tbody>\n",
       "</table>\n",
       "</div>"
      ],
      "text/plain": [
       "                             UserId      Date  Minute_Of_Day  Second  State  \\\n",
       "0  0d5f4cc176a4e1c648a9b9b5dbe21d69  20170106              0       0     47   \n",
       "1  807018f66aba113be576eb8afa4ea4b6  20170106              0       0      6   \n",
       "2  763e66e04918d8b8a7e69a778f5a742a  20170106              1       0     41   \n",
       "3  4ee1ed456fa04fc42168a9787b54b549  20170106              1       0     37   \n",
       "4  253e758a5557f9de890e814d901f6906  20170106              6       0     46   \n",
       "\n",
       "   Country  Device  OS           TimeStamp  \n",
       "0        1       1   1 2017-01-06 00:00:00  \n",
       "1        1       1   1 2017-01-06 00:00:00  \n",
       "2        1       1   1 2017-01-06 00:01:00  \n",
       "3        1       1   1 2017-01-06 00:01:00  \n",
       "4       40       1   1 2017-01-06 00:06:00  "
      ]
     },
     "execution_count": 110,
     "metadata": {},
     "output_type": "execute_result"
    }
   ],
   "source": [
    "df2.head()"
   ]
  },
  {
   "cell_type": "code",
   "execution_count": null,
   "metadata": {},
   "outputs": [],
   "source": []
  }
 ],
 "metadata": {
  "kernelspec": {
   "display_name": "Python 3",
   "language": "python",
   "name": "python3"
  },
  "language_info": {
   "codemirror_mode": {
    "name": "ipython",
    "version": 3
   },
   "file_extension": ".py",
   "mimetype": "text/x-python",
   "name": "python",
   "nbconvert_exporter": "python",
   "pygments_lexer": "ipython3",
   "version": "3.6.8"
  }
 },
 "nbformat": 4,
 "nbformat_minor": 2
}
