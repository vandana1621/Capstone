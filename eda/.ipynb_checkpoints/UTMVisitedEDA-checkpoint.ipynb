{
 "cells": [
  {
   "cell_type": "code",
   "execution_count": 10,
   "metadata": {},
   "outputs": [],
   "source": [
    "#read the csv file into pandas dataframe\n",
    "import pandas as pd\n",
    "import seaborn as sns\n",
    "UTM_Visited_df = pd.read_csv(\"../Data/UTMVisited.csv\")"
   ]
  },
  {
   "cell_type": "code",
   "execution_count": 11,
   "metadata": {},
   "outputs": [
    {
     "data": {
      "text/html": [
       "<div>\n",
       "<style scoped>\n",
       "    .dataframe tbody tr th:only-of-type {\n",
       "        vertical-align: middle;\n",
       "    }\n",
       "\n",
       "    .dataframe tbody tr th {\n",
       "        vertical-align: top;\n",
       "    }\n",
       "\n",
       "    .dataframe thead th {\n",
       "        text-align: right;\n",
       "    }\n",
       "</style>\n",
       "<table border=\"1\" class=\"dataframe\">\n",
       "  <thead>\n",
       "    <tr style=\"text-align: right;\">\n",
       "      <th></th>\n",
       "      <th>UserId</th>\n",
       "      <th>Date</th>\n",
       "      <th>Minute_Of_Day</th>\n",
       "      <th>Second</th>\n",
       "      <th>State</th>\n",
       "      <th>Country</th>\n",
       "      <th>Device</th>\n",
       "      <th>OS</th>\n",
       "    </tr>\n",
       "  </thead>\n",
       "  <tbody>\n",
       "    <tr>\n",
       "      <th>0</th>\n",
       "      <td>66d4abf4f3b733c27591b3f47c85eff7</td>\n",
       "      <td>20170106</td>\n",
       "      <td>0</td>\n",
       "      <td>52</td>\n",
       "      <td>37</td>\n",
       "      <td>1</td>\n",
       "      <td>1</td>\n",
       "      <td>1</td>\n",
       "    </tr>\n",
       "    <tr>\n",
       "      <th>1</th>\n",
       "      <td>1a40d7e5b34131b097fac80cf982241b</td>\n",
       "      <td>20170106</td>\n",
       "      <td>0</td>\n",
       "      <td>56</td>\n",
       "      <td>40</td>\n",
       "      <td>1</td>\n",
       "      <td>1</td>\n",
       "      <td>1</td>\n",
       "    </tr>\n",
       "    <tr>\n",
       "      <th>2</th>\n",
       "      <td>b7b3c1ce773a13b52d39429e305ea615</td>\n",
       "      <td>20170106</td>\n",
       "      <td>1</td>\n",
       "      <td>16</td>\n",
       "      <td>35</td>\n",
       "      <td>1</td>\n",
       "      <td>1</td>\n",
       "      <td>1</td>\n",
       "    </tr>\n",
       "    <tr>\n",
       "      <th>3</th>\n",
       "      <td>3f486a89433a02b96ab13b16c82e39fd</td>\n",
       "      <td>20170106</td>\n",
       "      <td>1</td>\n",
       "      <td>32</td>\n",
       "      <td>35</td>\n",
       "      <td>1</td>\n",
       "      <td>1</td>\n",
       "      <td>1</td>\n",
       "    </tr>\n",
       "    <tr>\n",
       "      <th>4</th>\n",
       "      <td>9ff982b29d78cefc8eb5a3ffb7fd2a5d</td>\n",
       "      <td>20170106</td>\n",
       "      <td>1</td>\n",
       "      <td>32</td>\n",
       "      <td>38</td>\n",
       "      <td>1</td>\n",
       "      <td>1</td>\n",
       "      <td>1</td>\n",
       "    </tr>\n",
       "  </tbody>\n",
       "</table>\n",
       "</div>"
      ],
      "text/plain": [
       "                             UserId      Date  Minute_Of_Day  Second  State  \\\n",
       "0  66d4abf4f3b733c27591b3f47c85eff7  20170106              0      52     37   \n",
       "1  1a40d7e5b34131b097fac80cf982241b  20170106              0      56     40   \n",
       "2  b7b3c1ce773a13b52d39429e305ea615  20170106              1      16     35   \n",
       "3  3f486a89433a02b96ab13b16c82e39fd  20170106              1      32     35   \n",
       "4  9ff982b29d78cefc8eb5a3ffb7fd2a5d  20170106              1      32     38   \n",
       "\n",
       "   Country  Device  OS  \n",
       "0        1       1   1  \n",
       "1        1       1   1  \n",
       "2        1       1   1  \n",
       "3        1       1   1  \n",
       "4        1       1   1  "
      ]
     },
     "execution_count": 11,
     "metadata": {},
     "output_type": "execute_result"
    }
   ],
   "source": [
    "#view the first 5 rows of the dataset\n",
    "UTM_Visited_df.head()"
   ]
  },
  {
   "cell_type": "code",
   "execution_count": 12,
   "metadata": {},
   "outputs": [
    {
     "data": {
      "text/plain": [
       "(495850, 8)"
      ]
     },
     "execution_count": 12,
     "metadata": {},
     "output_type": "execute_result"
    }
   ],
   "source": [
    "#view the number of rows and columns in the dataset\n",
    "UTM_Visited_df.shape"
   ]
  },
  {
   "cell_type": "code",
   "execution_count": 13,
   "metadata": {},
   "outputs": [
    {
     "name": "stdout",
     "output_type": "stream",
     "text": [
      "<class 'pandas.core.frame.DataFrame'>\n",
      "RangeIndex: 495850 entries, 0 to 495849\n",
      "Data columns (total 8 columns):\n",
      "UserId           495850 non-null object\n",
      "Date             495850 non-null int64\n",
      "Minute_Of_Day    495850 non-null int64\n",
      "Second           495850 non-null int64\n",
      "State            495850 non-null int64\n",
      "Country          495850 non-null int64\n",
      "Device           495850 non-null int64\n",
      "OS               495850 non-null int64\n",
      "dtypes: int64(7), object(1)\n",
      "memory usage: 30.3+ MB\n"
     ]
    }
   ],
   "source": [
    "#view the datatypes of the columns in the dataset\n",
    "UTM_Visited_df.info()"
   ]
  },
  {
   "cell_type": "code",
   "execution_count": 14,
   "metadata": {},
   "outputs": [
    {
     "data": {
      "text/plain": [
       "UserId           0\n",
       "Date             0\n",
       "Minute_Of_Day    0\n",
       "Second           0\n",
       "State            0\n",
       "Country          0\n",
       "Device           0\n",
       "OS               0\n",
       "dtype: int64"
      ]
     },
     "execution_count": 14,
     "metadata": {},
     "output_type": "execute_result"
    }
   ],
   "source": [
    "#check for the number of missing values\n",
    "UTM_Visited_df.isnull().sum()"
   ]
  },
  {
   "cell_type": "code",
   "execution_count": 15,
   "metadata": {},
   "outputs": [
    {
     "data": {
      "text/plain": [
       "1      324892\n",
       "40     139172\n",
       "255     28337\n",
       "14       1836\n",
       "2         555\n",
       "30        160\n",
       "12        140\n",
       "0         127\n",
       "47         96\n",
       "15         89\n",
       "7          72\n",
       "23         54\n",
       "5          51\n",
       "10         47\n",
       "46         39\n",
       "11         26\n",
       "24         25\n",
       "34         19\n",
       "21         19\n",
       "73         11\n",
       "57         10\n",
       "16         10\n",
       "77          7\n",
       "54          6\n",
       "32          6\n",
       "39          5\n",
       "6           5\n",
       "20          4\n",
       "86          4\n",
       "44          3\n",
       "163         3\n",
       "135         2\n",
       "36          2\n",
       "179         2\n",
       "42          2\n",
       "65          2\n",
       "25          1\n",
       "72          1\n",
       "115         1\n",
       "134         1\n",
       "45          1\n",
       "52          1\n",
       "61          1\n",
       "4           1\n",
       "62          1\n",
       "29          1\n",
       "Name: Country, dtype: int64"
      ]
     },
     "execution_count": 15,
     "metadata": {},
     "output_type": "execute_result"
    }
   ],
   "source": [
    "##view the value counts of the Country column\n",
    "UTM_Visited_df[\"Country\"].value_counts()"
   ]
  },
  {
   "cell_type": "code",
   "execution_count": 16,
   "metadata": {},
   "outputs": [
    {
     "data": {
      "text/plain": [
       "1    483461\n",
       "2     12338\n",
       "0        51\n",
       "Name: OS, dtype: int64"
      ]
     },
     "execution_count": 16,
     "metadata": {},
     "output_type": "execute_result"
    }
   ],
   "source": [
    "#view the value counts of the OS column\n",
    "UTM_Visited_df[\"OS\"].value_counts()"
   ]
  },
  {
   "cell_type": "code",
   "execution_count": 17,
   "metadata": {},
   "outputs": [
    {
     "data": {
      "image/png": "[encoded data removed]",
      "text/plain": [
       "<Figure size 432x288 with 1 Axes>"
      ]
     },
     "metadata": {
      "needs_background": "light"
     },
     "output_type": "display_data"
    }
   ],
   "source": [
    "#Exploring the 'Country' column of UTM Visited Data.\n",
    "UTM_Visited_df_country = pd.DataFrame(UTM_Visited_df['Country'].value_counts())\n",
    "#Selecting only the country which have high counts of users in UTM visited\n",
    "UTM_Visited_df_country = UTM_Visited_df_country[UTM_Visited_df_country['Country']>50000]\n",
    "#Visualizing using the bar plot\n",
    "ax = sns.barplot(x=UTM_Visited_df_country.index,y=UTM_Visited_df_country['Country'])"
   ]
  },
  {
   "cell_type": "code",
   "execution_count": 18,
   "metadata": {},
   "outputs": [
    {
     "data": {
      "image/png": "[encoded data removed]",
      "text/plain": [
       "<Figure size 432x288 with 1 Axes>"
      ]
     },
     "metadata": {
      "needs_background": "light"
     },
     "output_type": "display_data"
    }
   ],
   "source": [
    "#Exploring the 'State' column of UTM Visited Data.\n",
    "UTM_Visited_df_state = pd.DataFrame(UTM_Visited_df['State'].value_counts())\n",
    "#Selecting only the state which have high counts of users in UTM visited\n",
    "UTM_Visited_df_state = UTM_Visited_df_state[UTM_Visited_df_state['State']>30000]\n",
    "#Visualizing using the bar plot\n",
    "ax = sns.barplot(x=UTM_Visited_df_state.index,y=UTM_Visited_df_state['State'])"
   ]
  },
  {
   "cell_type": "code",
   "execution_count": 19,
   "metadata": {},
   "outputs": [
    {
     "data": {
      "text/plain": [
       "35     130943\n",
       "57      46993\n",
       "40      39612\n",
       "160     39429\n",
       "36      35398\n",
       "33      33565\n",
       "0       28472\n",
       "46      22249\n",
       "38      12957\n",
       "14      12261\n",
       "39       9189\n",
       "31       8551\n",
       "2        8537\n",
       "43       7992\n",
       "23       7738\n",
       "48       6181\n",
       "37       5543\n",
       "47       4350\n",
       "49       4081\n",
       "6        4022\n",
       "7        3462\n",
       "12       2871\n",
       "15       2439\n",
       "45       2432\n",
       "41       2055\n",
       "1        1884\n",
       "50       1540\n",
       "42       1142\n",
       "32        885\n",
       "5         846\n",
       "        ...  \n",
       "130        11\n",
       "252        11\n",
       "60          9\n",
       "120         9\n",
       "21          9\n",
       "117         8\n",
       "112         7\n",
       "147         6\n",
       "149         5\n",
       "83          5\n",
       "144         4\n",
       "64          4\n",
       "139         4\n",
       "221         3\n",
       "76          3\n",
       "85          3\n",
       "61          3\n",
       "30          3\n",
       "19          3\n",
       "118         3\n",
       "136         3\n",
       "127         3\n",
       "66          2\n",
       "101         2\n",
       "140         1\n",
       "116         1\n",
       "79          1\n",
       "145         1\n",
       "132         1\n",
       "152         1\n",
       "Name: State, Length: 111, dtype: int64"
      ]
     },
     "execution_count": 19,
     "metadata": {},
     "output_type": "execute_result"
    }
   ],
   "source": [
    "##view the value counts of the State column\n",
    "UTM_Visited_df[\"State\"].value_counts()"
   ]
  },
  {
   "cell_type": "code",
   "execution_count": 20,
   "metadata": {},
   "outputs": [
    {
     "data": {
      "text/plain": [
       "[Text(0,0,'0(Desktop)'),\n",
       " Text(0,0,'1(Mobile)'),\n",
       " Text(0,0,'2(Tablet)'),\n",
       " Text(0,0,'3(TV)')]"
      ]
     },
     "execution_count": 20,
     "metadata": {},
     "output_type": "execute_result"
    },
    {
     "data": {
      "image/png": "[encoded data removed]",
      "text/plain": [
       "<Figure size 432x288 with 1 Axes>"
      ]
     },
     "metadata": {
      "needs_background": "light"
     },
     "output_type": "display_data"
    }
   ],
   "source": [
    "#Exploring the 'Country' column of UTM Visited Data.\n",
    "UTM_Visited_df_device = pd.DataFrame(UTM_Visited_df['Device'].value_counts())\n",
    "#Visualizing using the bar plot\n",
    "ax = sns.barplot(x=UTM_Visited_df_device.index,y=UTM_Visited_df_device['Device'])\n",
    "ax.set_xticklabels(['0(Desktop)','1(Mobile)','2(Tablet)','3(TV)'], rotation='horizontal', fontsize=10)"
   ]
  },
  {
   "cell_type": "code",
   "execution_count": 21,
   "metadata": {},
   "outputs": [
    {
     "data": {
      "text/plain": [
       "[Text(0,0,'0: Others'), Text(0,0,'1: Android'), Text(0,0,'2: iOS')]"
      ]
     },
     "execution_count": 21,
     "metadata": {},
     "output_type": "execute_result"
    },
    {
     "data": {
      "image/png": "[encoded data removed]",
      "text/plain": [
       "<Figure size 432x288 with 1 Axes>"
      ]
     },
     "metadata": {
      "needs_background": "light"
     },
     "output_type": "display_data"
    }
   ],
   "source": [
    "#Exploring the 'OS' column of UTM Visited Data.\n",
    "UTM_Visited_df_OS = pd.DataFrame(UTM_Visited_df['OS'].value_counts())\n",
    "#Visualizing using the bar plot\n",
    "ax = sns.barplot(x=UTM_Visited_df_OS.index,y=UTM_Visited_df_OS['OS'])\n",
    "ax.set_xticklabels(['0: Others', '1: Android', '2: iOS', '3: Windows','4: Mac', '5: BlackBerry', '6: Linux'], rotation='horizontal', fontsize=10)"
   ]
  },
  {
   "cell_type": "code",
   "execution_count": 22,
   "metadata": {},
   "outputs": [
    {
     "ename": "NameError",
     "evalue": "name 'plt' is not defined",
     "output_type": "error",
     "traceback": [
      "\u001b[0;31m---------------------------------------------------------------------------\u001b[0m",
      "\u001b[0;31mNameError\u001b[0m                                 Traceback (most recent call last)",
      "\u001b[0;32m<ipython-input-22-3dfec2914e92>\u001b[0m in \u001b[0;36m<module>\u001b[0;34m()\u001b[0m\n\u001b[1;32m      9\u001b[0m \u001b[0;34m\u001b[0m\u001b[0m\n\u001b[1;32m     10\u001b[0m \u001b[0;31m#Plotting the stacked line chart for each day of each month\u001b[0m\u001b[0;34m\u001b[0m\u001b[0;34m\u001b[0m\u001b[0;34m\u001b[0m\u001b[0m\n\u001b[0;32m---> 11\u001b[0;31m \u001b[0mplt\u001b[0m\u001b[0;34m.\u001b[0m\u001b[0mfigure\u001b[0m\u001b[0;34m(\u001b[0m\u001b[0mfigsize\u001b[0m\u001b[0;34m=\u001b[0m\u001b[0;34m(\u001b[0m\u001b[0;36m16\u001b[0m\u001b[0;34m,\u001b[0m \u001b[0;36m7\u001b[0m\u001b[0;34m)\u001b[0m\u001b[0;34m)\u001b[0m\u001b[0;34m\u001b[0m\u001b[0;34m\u001b[0m\u001b[0m\n\u001b[0m\u001b[1;32m     12\u001b[0m \u001b[0msns\u001b[0m\u001b[0;34m.\u001b[0m\u001b[0mpointplot\u001b[0m\u001b[0;34m(\u001b[0m\u001b[0mx\u001b[0m\u001b[0;34m=\u001b[0m\u001b[0;34m\"day_of_month\"\u001b[0m\u001b[0;34m,\u001b[0m \u001b[0my\u001b[0m\u001b[0;34m=\u001b[0m\u001b[0;34m\"UserId\"\u001b[0m\u001b[0;34m,\u001b[0m \u001b[0mhue\u001b[0m\u001b[0;34m=\u001b[0m\u001b[0;34m\"month\"\u001b[0m\u001b[0;34m,\u001b[0m \u001b[0mdata\u001b[0m\u001b[0;34m=\u001b[0m\u001b[0mdf_groupedby_month_and_day\u001b[0m\u001b[0;34m)\u001b[0m\u001b[0;34m\u001b[0m\u001b[0;34m\u001b[0m\u001b[0m\n\u001b[1;32m     13\u001b[0m \u001b[0mplt\u001b[0m\u001b[0;34m.\u001b[0m\u001b[0mxlabel\u001b[0m\u001b[0;34m(\u001b[0m\u001b[0;34m\"Day of Month\"\u001b[0m\u001b[0;34m)\u001b[0m\u001b[0;34m\u001b[0m\u001b[0;34m\u001b[0m\u001b[0m\n",
      "\u001b[0;31mNameError\u001b[0m: name 'plt' is not defined"
     ]
    }
   ],
   "source": [
    "import seaborn as sns\n",
    "UTM_Visited_df['Date'] = pd.to_datetime(UTM_Visited_df['Date'],format=\"%Y%m%d\")\n",
    "UTM_Visited_df['month'] = UTM_Visited_df['Date'].dt.strftime('%b')\n",
    "UTM_Visited_df['day_of_month']= UTM_Visited_df['Date'].dt.day\n",
    "\n",
    "#Grouping by month & day, aggregating based on count of users for each day of each month\n",
    "df_groupedby_month_and_day = UTM_Visited_df.groupby(by=['month','day_of_month']).count().reset_index()\n",
    "\n",
    "\n",
    "#Plotting the stacked line chart for each day of each month\n",
    "plt.figure(figsize=(16, 7))\n",
    "sns.pointplot(x=\"day_of_month\", y=\"UserId\", hue=\"month\", data=df_groupedby_month_and_day)\n",
    "plt.xlabel(\"Day of Month\")\n",
    "plt.ylabel(\"No. of UTMVisited\")\n",
    "plt.title(\"VARIATION IN UTM visited DAILY FROM JAN TO MAY\")\n",
    "plt.legend(loc='upper right')"
   ]
  },
  {
   "cell_type": "code",
   "execution_count": null,
   "metadata": {},
   "outputs": [],
   "source": []
  },
  {
   "cell_type": "code",
   "execution_count": null,
   "metadata": {},
   "outputs": [],
   "source": []
  }
 ],
 "metadata": {
  "kernelspec": {
   "display_name": "Python 3",
   "language": "python",
   "name": "python3"
  },
  "language_info": {
   "codemirror_mode": {
    "name": "ipython",
    "version": 3
   },
   "file_extension": ".py",
   "mimetype": "text/x-python",
   "name": "python",
   "nbconvert_exporter": "python",
   "pygments_lexer": "ipython3",
   "version": "3.6.8"
  }
 },
 "nbformat": 4,
 "nbformat_minor": 2
}
